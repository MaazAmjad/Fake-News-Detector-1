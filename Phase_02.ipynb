{
 "cells": [
  {
   "cell_type": "markdown",
   "metadata": {
    "toc": "true"
   },
   "source": [
    "# Table of Contents\n",
    " <p><div class=\"lev1 toc-item\"><a href=\"#Setup\" data-toc-modified-id=\"Setup-1\"><span class=\"toc-item-num\">1&nbsp;&nbsp;</span>Setup</a></div><div class=\"lev1 toc-item\"><a href=\"#Semantics\" data-toc-modified-id=\"Semantics-2\"><span class=\"toc-item-num\">2&nbsp;&nbsp;</span>Semantics</a></div><div class=\"lev2 toc-item\"><a href=\"#Motivation\" data-toc-modified-id=\"Motivation-21\"><span class=\"toc-item-num\">2.1&nbsp;&nbsp;</span>Motivation</a></div><div class=\"lev2 toc-item\"><a href=\"#Term-Document\" data-toc-modified-id=\"Term-Document-22\"><span class=\"toc-item-num\">2.2&nbsp;&nbsp;</span>Term-Document</a></div><div class=\"lev3 toc-item\"><a href=\"#Bag-of-Words\" data-toc-modified-id=\"Bag-of-Words-221\"><span class=\"toc-item-num\">2.2.1&nbsp;&nbsp;</span>Bag-of-Words</a></div><div class=\"lev3 toc-item\"><a href=\"#TF-IDF\" data-toc-modified-id=\"TF-IDF-222\"><span class=\"toc-item-num\">2.2.2&nbsp;&nbsp;</span>TF-IDF</a></div><div class=\"lev2 toc-item\"><a href=\"#Term-Context\" data-toc-modified-id=\"Term-Context-23\"><span class=\"toc-item-num\">2.3&nbsp;&nbsp;</span>Term-Context</a></div><div class=\"lev1 toc-item\"><a href=\"#Word2Vec\" data-toc-modified-id=\"Word2Vec-3\"><span class=\"toc-item-num\">3&nbsp;&nbsp;</span>Word2Vec</a></div><div class=\"lev2 toc-item\"><a href=\"#Continuous-Bag-of-Words\" data-toc-modified-id=\"Continuous-Bag-of-Words-31\"><span class=\"toc-item-num\">3.1&nbsp;&nbsp;</span>Continuous Bag of Words</a></div><div class=\"lev2 toc-item\"><a href=\"#Skip-gram\" data-toc-modified-id=\"Skip-gram-32\"><span class=\"toc-item-num\">3.2&nbsp;&nbsp;</span>Skip-gram</a></div><div class=\"lev2 toc-item\"><a href=\"#Example\" data-toc-modified-id=\"Example-33\"><span class=\"toc-item-num\">3.3&nbsp;&nbsp;</span>Example</a></div><div class=\"lev1 toc-item\"><a href=\"#Doc2Vec\" data-toc-modified-id=\"Doc2Vec-4\"><span class=\"toc-item-num\">4&nbsp;&nbsp;</span>Doc2Vec</a></div><div class=\"lev2 toc-item\"><a href=\"#Doc2Vec,-the-most-powerful-extension-of-word2vec\" data-toc-modified-id=\"Doc2Vec,-the-most-powerful-extension-of-word2vec-41\"><span class=\"toc-item-num\">4.1&nbsp;&nbsp;</span>Doc2Vec, the most powerful extension of word2vec</a></div><div class=\"lev2 toc-item\"><a href=\"#Distrubted-Memory-(DM)\" data-toc-modified-id=\"Distrubted-Memory-(DM)-42\"><span class=\"toc-item-num\">4.2&nbsp;&nbsp;</span>Distrubted Memory (DM)</a></div><div class=\"lev2 toc-item\"><a href=\"#Distrubted-Bag-of-Words-(DBOW)\" data-toc-modified-id=\"Distrubted-Bag-of-Words-(DBOW)-43\"><span class=\"toc-item-num\">4.3&nbsp;&nbsp;</span>Distrubted Bag of Words (DBOW)</a></div><div class=\"lev1 toc-item\"><a href=\"#Exercises\" data-toc-modified-id=\"Exercises-5\"><span class=\"toc-item-num\">5&nbsp;&nbsp;</span>Exercises</a></div>"
   ]
  },
  {
   "cell_type": "markdown",
   "metadata": {},
   "source": [
    "# Setup\n",
    "----"
   ]
  },
  {
   "cell_type": "markdown",
   "metadata": {},
   "source": [
    "This notebook assumes you have done the setup required in Week 1.\n",
    "\n",
    "In this lecture we will be using Gensim and NLTK, two widely used Python Natural Language Processing libraries."
   ]
  },
  {
   "cell_type": "code",
   "execution_count": 2,
   "metadata": {},
   "outputs": [],
   "source": [
    "reset -f -s"
   ]
  },
  {
   "cell_type": "code",
   "execution_count": 3,
   "metadata": {},
   "outputs": [],
   "source": [
    "def pip_install(*packages):\n",
    "    \"\"\"\n",
    "    Install packages using pip\n",
    "    Alternatively just use command line\n",
    "    pip install package_name\n",
    "    \"\"\"\n",
    "    try:\n",
    "        import pip\n",
    "        for package in packages:\n",
    "            pip.main([\"install\", \"--upgrade\", package, \"--user\"])\n",
    "    except Exception as e:\n",
    "        print(\"Unable to install {} using pip.\".format(package))\n",
    "        print(\"Exception:\", e)"
   ]
  },
  {
   "cell_type": "code",
   "execution_count": null,
   "metadata": {},
   "outputs": [
    {
     "name": "stdout",
     "output_type": "stream",
     "text": [
      "Collecting gensim\n",
      "  Using cached gensim-3.2.0-cp36-cp36m-macosx_10_6_intel.macosx_10_9_intel.macosx_10_9_x86_64.macosx_10_10_intel.macosx_10_10_x86_64.whl\n",
      "Requirement already up-to-date: scipy>=0.18.1 in /Users/lifesaver/miniconda3/lib/python3.6/site-packages (from gensim)\n",
      "Requirement already up-to-date: six>=1.5.0 in /Users/lifesaver/miniconda3/lib/python3.6/site-packages (from gensim)\n",
      "Collecting smart-open>=1.2.1 (from gensim)\n",
      "Requirement already up-to-date: numpy>=1.11.3 in /Users/lifesaver/miniconda3/lib/python3.6/site-packages (from gensim)\n",
      "Collecting boto>=2.32 (from smart-open>=1.2.1->gensim)\n",
      "  Using cached boto-2.48.0-py2.py3-none-any.whl\n",
      "Collecting boto3 (from smart-open>=1.2.1->gensim)\n",
      "  Using cached boto3-1.5.22-py2.py3-none-any.whl\n",
      "Collecting bz2file (from smart-open>=1.2.1->gensim)\n",
      "Requirement already up-to-date: requests in /Users/lifesaver/miniconda3/lib/python3.6/site-packages (from smart-open>=1.2.1->gensim)\n",
      "Collecting s3transfer<0.2.0,>=0.1.10 (from boto3->smart-open>=1.2.1->gensim)\n",
      "  Using cached s3transfer-0.1.12-py2.py3-none-any.whl\n",
      "Collecting jmespath<1.0.0,>=0.7.1 (from boto3->smart-open>=1.2.1->gensim)\n",
      "  Using cached jmespath-0.9.3-py2.py3-none-any.whl\n",
      "Collecting botocore<1.9.0,>=1.8.36 (from boto3->smart-open>=1.2.1->gensim)\n",
      "  Using cached botocore-1.8.36-py2.py3-none-any.whl\n",
      "Requirement already up-to-date: chardet<3.1.0,>=3.0.2 in /Users/lifesaver/miniconda3/lib/python3.6/site-packages (from requests->smart-open>=1.2.1->gensim)\n",
      "Requirement already up-to-date: idna<2.7,>=2.5 in /Users/lifesaver/miniconda3/lib/python3.6/site-packages (from requests->smart-open>=1.2.1->gensim)\n",
      "Requirement already up-to-date: urllib3<1.23,>=1.21.1 in /Users/lifesaver/miniconda3/lib/python3.6/site-packages (from requests->smart-open>=1.2.1->gensim)\n",
      "Requirement already up-to-date: certifi>=2017.4.17 in /Users/lifesaver/miniconda3/lib/python3.6/site-packages (from requests->smart-open>=1.2.1->gensim)\n",
      "Collecting docutils>=0.10 (from botocore<1.9.0,>=1.8.36->boto3->smart-open>=1.2.1->gensim)\n",
      "  Using cached docutils-0.14-py3-none-any.whl\n",
      "Requirement already up-to-date: python-dateutil<3.0.0,>=2.1 in /Users/lifesaver/miniconda3/lib/python3.6/site-packages (from botocore<1.9.0,>=1.8.36->boto3->smart-open>=1.2.1->gensim)\n",
      "Installing collected packages: boto, jmespath, docutils, botocore, s3transfer, boto3, bz2file, smart-open, gensim\n"
     ]
    }
   ],
   "source": [
    "pip_install('gensim', 'nltk')"
   ]
  },
  {
   "cell_type": "code",
   "execution_count": 2,
   "metadata": {},
   "outputs": [
    {
     "name": "stdout",
     "output_type": "stream",
     "text": [
      "[nltk_data] Downloading package gutenberg to\n",
      "[nltk_data]     /Users/lifesaver/nltk_data...\n",
      "[nltk_data]   Package gutenberg is already up-to-date!\n",
      "[nltk_data] Downloading package reuters to\n",
      "[nltk_data]     /Users/lifesaver/nltk_data...\n",
      "[nltk_data]   Package reuters is already up-to-date!\n"
     ]
    },
    {
     "data": {
      "text/plain": [
       "True"
      ]
     },
     "execution_count": 2,
     "metadata": {},
     "output_type": "execute_result"
    }
   ],
   "source": [
    "import nltk\n",
    "nltk.download('gutenberg')\n",
    "nltk.download('reuters')"
   ]
  },
  {
   "cell_type": "code",
   "execution_count": 10,
   "metadata": {},
   "outputs": [],
   "source": [
    "import os\n",
    "ROOTDIR = os.path.abspath(os.path.dirname('__file__'))\n",
    "DATADIR = os.path.join(ROOTDIR, 'data')"
   ]
  },
  {
   "cell_type": "markdown",
   "metadata": {},
   "source": [
    "# Semantics\n",
    "---"
   ]
  },
  {
   "cell_type": "markdown",
   "metadata": {},
   "source": [
    "## Motivation"
   ]
  },
  {
   "cell_type": "markdown",
   "metadata": {},
   "source": [
    "If we want to be able to categorize text, we need to be able to generate features for articles, paragraphs, sentences and other bodies of text, based on the information they contain and what they represent. There are a number of ways to achieve this and we will go over 3 approaches."
   ]
  },
  {
   "cell_type": "markdown",
   "metadata": {},
   "source": [
    "## Term-Document"
   ]
  },
  {
   "cell_type": "markdown",
   "metadata": {},
   "source": [
    "### Bag-of-Words\n",
    "\n",
    "One of the simplest ways to extract features from text is to just count how many times a word appears in a body of text. In this model, the order of words does not matter and only the number of occurrences of each unique term for each document is taken into account."
   ]
  },
  {
   "cell_type": "code",
   "execution_count": 11,
   "metadata": {},
   "outputs": [],
   "source": [
    "import pandas as pd\n",
    "\n",
    "#Load movie reviews dataset\n",
    "df = pd.read_csv(os.path.join(DATADIR, 'movie_reviews.csv'), nrows=100000)\n",
    "texts = df.text.values #pd.Series -> np.ndarray"
   ]
  },
  {
   "cell_type": "code",
   "execution_count": 6,
   "metadata": {},
   "outputs": [],
   "source": [
    "import nltk\n",
    "# Transform each review string as a list of token strings. May take a few seconds\n",
    "tokenized = [nltk.word_tokenize(review) for review in texts]"
   ]
  },
  {
   "cell_type": "code",
   "execution_count": 7,
   "metadata": {},
   "outputs": [
    {
     "name": "stdout",
     "output_type": "stream",
     "text": [
      "Example review:\n",
      "   Raw: So ingenious in concept, design and execution that you could watch it on a postage stamp-sized screen and still be engulfed by its charm. \n",
      "\n",
      "   Tokenized: ['So', 'ingenious', 'in', 'concept', ',', 'design', 'and', 'execution', 'that', 'you', 'could', 'watch', 'it', 'on', 'a', 'postage', 'stamp-sized', 'screen', 'and', 'still', 'be', 'engulfed', 'by', 'its', 'charm', '.']\n"
     ]
    }
   ],
   "source": [
    "n = 10 #arbitrary pick\n",
    "print('Example review:\\n   Raw: {} \\n\\n   Tokenized: {}'.format(texts[n], [i for i in tokenized[n]]))"
   ]
  },
  {
   "cell_type": "code",
   "execution_count": null,
   "metadata": {
    "collapsed": true
   },
   "outputs": [],
   "source": []
  },
  {
   "cell_type": "code",
   "execution_count": 11,
   "metadata": {},
   "outputs": [],
   "source": [
    "def clean_text(tokenized_list):\n",
    "    import string\n",
    "    sw = nltk.corpus.stopwords.words('english')\n",
    "    new_list = [[token.lower() for token in tlist if token not in string.punctuation and token.lower() not in sw] for tlist in tokenized_list]\n",
    "    return new_list\n",
    "\n",
    "# Remove punctuations and stopwords\n",
    "cleaned = clean_text(tokenized)"
   ]
  },
  {
   "cell_type": "code",
   "execution_count": 12,
   "metadata": {},
   "outputs": [
    {
     "name": "stdout",
     "output_type": "stream",
     "text": [
      "'pattern' package not found; tag filters are not available for English\n",
      "adding document #0 to Dictionary(0 unique tokens: [])\n",
      "adding document #10000 to Dictionary(19398 unique tokens: ['...', 'entire', 'ever', 'filmgoers', 'generation']...)\n",
      "adding document #20000 to Dictionary(28254 unique tokens: ['...', 'entire', 'ever', 'filmgoers', 'generation']...)\n",
      "adding document #30000 to Dictionary(34454 unique tokens: ['...', 'entire', 'ever', 'filmgoers', 'generation']...)\n",
      "adding document #40000 to Dictionary(39899 unique tokens: ['...', 'entire', 'ever', 'filmgoers', 'generation']...)\n",
      "adding document #50000 to Dictionary(45118 unique tokens: ['...', 'entire', 'ever', 'filmgoers', 'generation']...)\n",
      "adding document #60000 to Dictionary(50200 unique tokens: ['...', 'entire', 'ever', 'filmgoers', 'generation']...)\n",
      "adding document #70000 to Dictionary(54543 unique tokens: ['...', 'entire', 'ever', 'filmgoers', 'generation']...)\n",
      "adding document #80000 to Dictionary(58569 unique tokens: ['...', 'entire', 'ever', 'filmgoers', 'generation']...)\n",
      "adding document #90000 to Dictionary(62811 unique tokens: ['...', 'entire', 'ever', 'filmgoers', 'generation']...)\n",
      "built Dictionary(67734 unique tokens: ['...', 'entire', 'ever', 'filmgoers', 'generation']...) from 100000 documents (total 1149504 corpus positions)\n"
     ]
    }
   ],
   "source": [
    "from gensim import corpora\n",
    "\n",
    "# Create a dictionary from list of documents\n",
    "dictionary = corpora.Dictionary(cleaned)"
   ]
  },
  {
   "cell_type": "code",
   "execution_count": 13,
   "metadata": {},
   "outputs": [
    {
     "name": "stdout",
     "output_type": "stream",
     "text": [
      "Example review featurized in Bag of Words :\n",
      " [('still', 1), ('charm', 1), ('concept', 1), ('could', 1), ('design', 1), ('engulfed', 1), ('execution', 1), ('ingenious', 1), ('postage', 1), ('screen', 1), ('stamp-sized', 1), ('watch', 1)]\n"
     ]
    }
   ],
   "source": [
    "# Create a Corpus based on BOW Format.\n",
    "corpus = [dictionary.doc2bow(text) for text in cleaned]\n",
    "print('Example review featurized in Bag of Words :\\n {}'.format([(dictionary[i[0]], i[1]) for i in corpus[n]]))"
   ]
  },
  {
   "cell_type": "markdown",
   "metadata": {},
   "source": [
    "Note that when we use this model to featurize text:\n",
    "- The length of each feature vector will be the size of the vocabulary in the corpus\n",
    "- Thus each body of text will have a lot of zeroes"
   ]
  },
  {
   "cell_type": "markdown",
   "metadata": {},
   "source": [
    "### TF-IDF"
   ]
  },
  {
   "cell_type": "markdown",
   "metadata": {},
   "source": [
    "__Term Frequency__: Number of occurrences of a word in a document  \n",
    "__Inverse Document Frequency__: Number of documents that contain a certain word scaled by a weight  \n",
    "__Term Frequency - Inverse Document Frequency__: (Number of ocurrences of word $w$ in text $T$) * $log$(Number of documents in a corpus/Number of documents containing word $w$)\n",
    "\n"
   ]
  },
  {
   "cell_type": "markdown",
   "metadata": {},
   "source": [
    "Let's check out the TF-IDF scores of the previous movie review we examined."
   ]
  },
  {
   "cell_type": "code",
   "execution_count": 16,
   "metadata": {},
   "outputs": [
    {
     "name": "stdout",
     "output_type": "stream",
     "text": [
      "collecting document frequencies\n",
      "PROGRESS: processing document #0\n",
      "PROGRESS: processing document #10000\n",
      "PROGRESS: processing document #20000\n",
      "PROGRESS: processing document #30000\n",
      "PROGRESS: processing document #40000\n",
      "PROGRESS: processing document #50000\n",
      "PROGRESS: processing document #60000\n",
      "PROGRESS: processing document #70000\n",
      "PROGRESS: processing document #80000\n",
      "PROGRESS: processing document #90000\n",
      "calculating IDF weights for 100000 documents and 67733 features (1111018 matrix non-zeros)\n",
      "Example review featurized with TF-IDF scores : \n",
      "[('still', 0.152), ('charm', 0.206), ('concept', 0.244), ('could', 0.159), ('design', 0.25), ('engulfed', 0.43), ('execution', 0.259), ('ingenious', 0.293), ('postage', 0.414), ('screen', 0.176), ('stamp-sized', 0.458), ('watch', 0.191)]\n"
     ]
    }
   ],
   "source": [
    "from gensim import corpora, models\n",
    "\n",
    "#Create a TFIDF Model for the corpus\n",
    "tfidf = models.TfidfModel(corpus)\n",
    "\n",
    "print('Example review featurized with TF-IDF scores : \\n{}'.format([(dictionary[i[0]], round(i[1],3)) for i in tfidf[corpus[n]]]))"
   ]
  },
  {
   "cell_type": "markdown",
   "metadata": {},
   "source": [
    "Looks much more like a feature vector that we can use for text categorization!  \n",
    "Note that in the TF-IDF model:\n",
    "- If a term frequently occurs in the corpus(i.e. stopwords, the term $like$), it is scaled to a lower score\n",
    "- Rarer terms will generally have higher scores. They tend to be more \"informative\" and descriptive.\n",
    "- A term that occurs frequently in a small number of documents within the corpus will have the highest scores."
   ]
  },
  {
   "cell_type": "markdown",
   "metadata": {},
   "source": [
    "![](images/tfidf.jpg)"
   ]
  },
  {
   "cell_type": "markdown",
   "metadata": {},
   "source": [
    "## Term-Context"
   ]
  },
  {
   "cell_type": "markdown",
   "metadata": {},
   "source": [
    "The vast majority of NLP works regards as atomic symbols: king, queen, book, etc.\n",
    "\n",
    "In vector space terms, this vector has one $1 $ and a lot of zeros.   \n",
    "$king =  [1, 0, 0, 0, 0, 0, 0, 0, 0]$   \n",
    "$queen = [0, 1, 0, 0, 0, 0, 0, 0, 0]$   \n",
    "$book =  [0, 0, 1, 0, 0, 0, 0, 0, 0]$  \n",
    "\n",
    "It is called a \"one-hot\" encoding representation. It is a common way to represent categories in models. However, it is very sparse(as we saw from the BOW model); each row is mostly 0s.  \n",
    "You can get more value by representing a word by its neighorbors"
   ]
  },
  {
   "cell_type": "markdown",
   "metadata": {},
   "source": [
    "Instead of using entire documents, we can use small contexts to a term.\n",
    "- Paragraphs\n",
    "- Sentences\n",
    "- A window of a sequence of consecutive terms\n",
    "\n",
    "In this way, a word is defined over counts of context words. The assumption is that two words that appear in similar contexts are similar themselves."
   ]
  },
  {
   "cell_type": "markdown",
   "metadata": {},
   "source": [
    "But count-based models have disadvantages:\n",
    "- vector sizes become huge, equal to vocabulary size\n",
    "    - sparsity\n",
    "    - curse of dimensionality\n",
    "    - computationally expensive\n",
    "    "
   ]
  },
  {
   "cell_type": "markdown",
   "metadata": {},
   "source": [
    "# Word2Vec"
   ]
  },
  {
   "cell_type": "markdown",
   "metadata": {},
   "source": [
    "Word2Vec is an unsupervised neural network model that maximizes similarity between contextual neighbors while minimizing similarity for unseen contexts.\n",
    "Initial vectors are generated randomly and converge as the models is trained on the corpus through a sliding window.\n",
    "Target Vector sizes are set at the beginning of the training process, so the vectors are dense and do not need dimensionality reduction techniques.\n",
    "\n"
   ]
  },
  {
   "cell_type": "markdown",
   "metadata": {},
   "source": [
    "## Continuous Bag of Words"
   ]
  },
  {
   "cell_type": "markdown",
   "metadata": {},
   "source": [
    "![](images/cbow.png)"
   ]
  },
  {
   "cell_type": "markdown",
   "metadata": {},
   "source": [
    "Training objective is to maiximize the probability of observing the correct target word $w_t$ given context words $w_{c1}, w_{c2}, ... w_{cj}$\n",
    "\n",
    " $$ C = -log p(w_t | w_{c1} ... w_{cj}) $$"
   ]
  },
  {
   "cell_type": "markdown",
   "metadata": {},
   "source": [
    "The prediction vector is set as an average of all the context word vectors"
   ]
  },
  {
   "cell_type": "markdown",
   "metadata": {},
   "source": [
    "## Skip-gram"
   ]
  },
  {
   "cell_type": "markdown",
   "metadata": {},
   "source": [
    "![](images/skip-gram.png)"
   ]
  },
  {
   "cell_type": "markdown",
   "metadata": {},
   "source": [
    "Training objective is to maiximize the probability of observing the correct context words $w_{ci}$ given target word $w_{t}$\n",
    "\n",
    " $$ C = -\\sum^{j}_{i=1}log p(w_{ci} | w_{t}) $$\n",
    " \n",
    "In this case, the prediction vector is the the target word vector."
   ]
  },
  {
   "cell_type": "markdown",
   "metadata": {},
   "source": [
    "## Example"
   ]
  },
  {
   "cell_type": "markdown",
   "metadata": {},
   "source": [
    "Now let's try training our own word embeddings and looking at what we can do with them."
   ]
  },
  {
   "cell_type": "markdown",
   "metadata": {},
   "source": [
    "Word2Vec\n",
    "- `size`: Number of dimensions for the word embedding model\n",
    "- `window`: Number of context words to observe in each direction\n",
    "- `min_count`: Minimum frequency for words included in model\n",
    "- `sg` (Skip-Gram): '0' indicates CBOW model; '1' indicates Skip-Gram\n",
    "- `alpha`: Learning rate (initial); prevents model from over-correcting, enables finer tuning\n",
    "- `iterations`: Number of passes through dataset\n",
    "- `batch_words`: Number of words to sample from data during each pass"
   ]
  },
  {
   "cell_type": "code",
   "execution_count": 19,
   "metadata": {
    "scrolled": true
   },
   "outputs": [
    {
     "name": "stdout",
     "output_type": "stream",
     "text": [
      "collecting all words and their counts\n",
      "PROGRESS: at sentence #0, processed 0 words, keeping 0 word types\n",
      "PROGRESS: at sentence #10000, processed 256693 words, keeping 9207 word types\n",
      "PROGRESS: at sentence #20000, processed 567137 words, keeping 13603 word types\n",
      "PROGRESS: at sentence #30000, processed 918759 words, keeping 17616 word types\n",
      "PROGRESS: at sentence #40000, processed 1236460 words, keeping 19579 word types\n",
      "PROGRESS: at sentence #50000, processed 1508401 words, keeping 22623 word types\n",
      "PROGRESS: at sentence #60000, processed 1715918 words, keeping 27910 word types\n",
      "PROGRESS: at sentence #70000, processed 1915119 words, keeping 30708 word types\n",
      "PROGRESS: at sentence #80000, processed 2144824 words, keeping 35822 word types\n",
      "PROGRESS: at sentence #90000, processed 2415166 words, keeping 44470 word types\n",
      "collected 51134 word types from a corpus of 2621785 raw words and 98552 sentences\n",
      "Loading a fresh vocabulary\n",
      "min_count=5 retains 17011 unique words (33% of original 51134, drops 34123)\n",
      "min_count=5 leaves 2565427 word corpus (97% of original 2621785, drops 56358)\n",
      "deleting the raw counts dictionary of 51134 items\n",
      "sample=0.001 downsamples 53 most-common words\n",
      "downsampling leaves estimated 1802467 word corpus (70.3% of prior 2565427)\n",
      "estimated required memory for 17011 words and 300 dimensions: 49331900 bytes\n",
      "resetting layer weights\n",
      "training model with 3 workers on 17011 vocabulary and 300 features, using sg=0 hs=0 sample=0.001 negative=5 window=5\n",
      "PROGRESS: at 1.12% examples, 194674 words/s, in_qsize 0, out_qsize 0\n",
      "PROGRESS: at 2.15% examples, 213024 words/s, in_qsize 0, out_qsize 0\n",
      "PROGRESS: at 3.36% examples, 222702 words/s, in_qsize 0, out_qsize 0\n",
      "PROGRESS: at 4.47% examples, 228070 words/s, in_qsize 0, out_qsize 0\n",
      "PROGRESS: at 5.82% examples, 223539 words/s, in_qsize 0, out_qsize 0\n",
      "PROGRESS: at 7.21% examples, 217486 words/s, in_qsize 0, out_qsize 0\n",
      "PROGRESS: at 8.43% examples, 215687 words/s, in_qsize 0, out_qsize 0\n",
      "PROGRESS: at 9.65% examples, 210600 words/s, in_qsize 0, out_qsize 0\n",
      "PROGRESS: at 10.59% examples, 207928 words/s, in_qsize 0, out_qsize 0\n",
      "PROGRESS: at 11.64% examples, 206963 words/s, in_qsize 0, out_qsize 0\n",
      "PROGRESS: at 12.67% examples, 210723 words/s, in_qsize 0, out_qsize 0\n",
      "PROGRESS: at 13.82% examples, 212895 words/s, in_qsize 0, out_qsize 0\n",
      "PROGRESS: at 15.02% examples, 214139 words/s, in_qsize 0, out_qsize 0\n",
      "PROGRESS: at 16.10% examples, 209783 words/s, in_qsize 0, out_qsize 0\n",
      "PROGRESS: at 17.07% examples, 203605 words/s, in_qsize 0, out_qsize 0\n",
      "PROGRESS: at 17.93% examples, 198907 words/s, in_qsize 0, out_qsize 0\n",
      "PROGRESS: at 18.72% examples, 195887 words/s, in_qsize 0, out_qsize 0\n",
      "PROGRESS: at 19.71% examples, 192156 words/s, in_qsize 0, out_qsize 0\n",
      "PROGRESS: at 20.47% examples, 189817 words/s, in_qsize 0, out_qsize 0\n",
      "PROGRESS: at 21.17% examples, 186500 words/s, in_qsize 0, out_qsize 0\n",
      "PROGRESS: at 21.73% examples, 182641 words/s, in_qsize 0, out_qsize 0\n",
      "PROGRESS: at 22.44% examples, 182300 words/s, in_qsize 0, out_qsize 0\n",
      "PROGRESS: at 23.50% examples, 183143 words/s, in_qsize 0, out_qsize 0\n",
      "PROGRESS: at 24.61% examples, 185696 words/s, in_qsize 0, out_qsize 0\n",
      "PROGRESS: at 25.89% examples, 185833 words/s, in_qsize 0, out_qsize 0\n",
      "PROGRESS: at 27.23% examples, 185820 words/s, in_qsize 0, out_qsize 0\n",
      "PROGRESS: at 28.38% examples, 185893 words/s, in_qsize 0, out_qsize 0\n",
      "PROGRESS: at 29.68% examples, 186204 words/s, in_qsize 0, out_qsize 0\n",
      "PROGRESS: at 30.76% examples, 186886 words/s, in_qsize 0, out_qsize 0\n",
      "PROGRESS: at 31.83% examples, 187691 words/s, in_qsize 0, out_qsize 0\n",
      "PROGRESS: at 32.84% examples, 189637 words/s, in_qsize 0, out_qsize 0\n",
      "PROGRESS: at 34.00% examples, 191259 words/s, in_qsize 0, out_qsize 0\n",
      "PROGRESS: at 35.09% examples, 191383 words/s, in_qsize 0, out_qsize 0\n",
      "PROGRESS: at 36.41% examples, 191058 words/s, in_qsize 0, out_qsize 0\n",
      "PROGRESS: at 37.49% examples, 189599 words/s, in_qsize 0, out_qsize 0\n",
      "PROGRESS: at 38.45% examples, 189001 words/s, in_qsize 0, out_qsize 0\n",
      "PROGRESS: at 39.65% examples, 188520 words/s, in_qsize 0, out_qsize 0\n",
      "PROGRESS: at 40.56% examples, 188195 words/s, in_qsize 0, out_qsize 0\n",
      "PROGRESS: at 41.46% examples, 187546 words/s, in_qsize 0, out_qsize 0\n",
      "PROGRESS: at 42.35% examples, 188374 words/s, in_qsize 0, out_qsize 0\n",
      "PROGRESS: at 43.38% examples, 188618 words/s, in_qsize 0, out_qsize 0\n",
      "PROGRESS: at 44.39% examples, 189420 words/s, in_qsize 0, out_qsize 0\n",
      "PROGRESS: at 45.45% examples, 188932 words/s, in_qsize 0, out_qsize 0\n",
      "PROGRESS: at 46.11% examples, 186869 words/s, in_qsize 0, out_qsize 0\n",
      "PROGRESS: at 47.23% examples, 186033 words/s, in_qsize 0, out_qsize 0\n",
      "PROGRESS: at 48.38% examples, 186113 words/s, in_qsize 0, out_qsize 0\n",
      "PROGRESS: at 49.60% examples, 185852 words/s, in_qsize 0, out_qsize 0\n",
      "PROGRESS: at 50.56% examples, 185847 words/s, in_qsize 0, out_qsize 0\n",
      "PROGRESS: at 51.26% examples, 184525 words/s, in_qsize 0, out_qsize 0\n",
      "PROGRESS: at 52.00% examples, 184074 words/s, in_qsize 0, out_qsize 0\n",
      "PROGRESS: at 52.84% examples, 184396 words/s, in_qsize 0, out_qsize 0\n",
      "PROGRESS: at 53.83% examples, 184642 words/s, in_qsize 0, out_qsize 0\n",
      "PROGRESS: at 54.88% examples, 185039 words/s, in_qsize 0, out_qsize 0\n",
      "PROGRESS: at 56.03% examples, 184491 words/s, in_qsize 0, out_qsize 0\n",
      "PROGRESS: at 57.23% examples, 184132 words/s, in_qsize 0, out_qsize 0\n",
      "PROGRESS: at 58.24% examples, 183656 words/s, in_qsize 0, out_qsize 0\n",
      "PROGRESS: at 58.98% examples, 182995 words/s, in_qsize 0, out_qsize 0\n",
      "PROGRESS: at 59.90% examples, 181814 words/s, in_qsize 0, out_qsize 0\n",
      "PROGRESS: at 60.85% examples, 181748 words/s, in_qsize 0, out_qsize 0\n",
      "PROGRESS: at 61.88% examples, 182035 words/s, in_qsize 0, out_qsize 0\n",
      "PROGRESS: at 62.63% examples, 181982 words/s, in_qsize 0, out_qsize 0\n",
      "PROGRESS: at 63.44% examples, 181482 words/s, in_qsize 0, out_qsize 0\n",
      "PROGRESS: at 64.15% examples, 181199 words/s, in_qsize 0, out_qsize 0\n",
      "PROGRESS: at 65.24% examples, 181383 words/s, in_qsize 0, out_qsize 0\n",
      "PROGRESS: at 66.58% examples, 181488 words/s, in_qsize 0, out_qsize 0\n",
      "PROGRESS: at 67.90% examples, 181628 words/s, in_qsize 0, out_qsize 0\n",
      "PROGRESS: at 69.08% examples, 182047 words/s, in_qsize 0, out_qsize 0\n",
      "PROGRESS: at 70.19% examples, 181830 words/s, in_qsize 0, out_qsize 0\n",
      "PROGRESS: at 71.30% examples, 182072 words/s, in_qsize 0, out_qsize 0\n",
      "PROGRESS: at 72.31% examples, 182869 words/s, in_qsize 0, out_qsize 0\n",
      "PROGRESS: at 73.47% examples, 183439 words/s, in_qsize 0, out_qsize 0\n",
      "PROGRESS: at 74.58% examples, 184332 words/s, in_qsize 0, out_qsize 0\n",
      "PROGRESS: at 75.89% examples, 184431 words/s, in_qsize 0, out_qsize 0\n",
      "PROGRESS: at 77.08% examples, 184215 words/s, in_qsize 0, out_qsize 0\n",
      "PROGRESS: at 78.24% examples, 184162 words/s, in_qsize 0, out_qsize 0\n",
      "PROGRESS: at 79.08% examples, 183734 words/s, in_qsize 0, out_qsize 0\n",
      "PROGRESS: at 80.11% examples, 183378 words/s, in_qsize 0, out_qsize 0\n",
      "PROGRESS: at 80.96% examples, 183023 words/s, in_qsize 0, out_qsize 0\n",
      "PROGRESS: at 81.74% examples, 182573 words/s, in_qsize 0, out_qsize 0\n",
      "PROGRESS: at 82.59% examples, 182912 words/s, in_qsize 0, out_qsize 0\n",
      "PROGRESS: at 83.63% examples, 183130 words/s, in_qsize 0, out_qsize 0\n",
      "PROGRESS: at 84.58% examples, 183446 words/s, in_qsize 0, out_qsize 0\n",
      "PROGRESS: at 85.94% examples, 183593 words/s, in_qsize 0, out_qsize 0\n",
      "PROGRESS: at 87.23% examples, 183549 words/s, in_qsize 0, out_qsize 0\n",
      "PROGRESS: at 88.34% examples, 183548 words/s, in_qsize 0, out_qsize 0\n",
      "PROGRESS: at 89.25% examples, 183138 words/s, in_qsize 0, out_qsize 0\n",
      "PROGRESS: at 90.22% examples, 182933 words/s, in_qsize 0, out_qsize 0\n",
      "PROGRESS: at 91.18% examples, 182727 words/s, in_qsize 0, out_qsize 0\n",
      "PROGRESS: at 92.00% examples, 182662 words/s, in_qsize 0, out_qsize 0\n",
      "PROGRESS: at 92.89% examples, 182983 words/s, in_qsize 0, out_qsize 0\n",
      "PROGRESS: at 93.91% examples, 183278 words/s, in_qsize 0, out_qsize 0\n",
      "PROGRESS: at 95.09% examples, 183597 words/s, in_qsize 0, out_qsize 0\n",
      "PROGRESS: at 96.36% examples, 183570 words/s, in_qsize 0, out_qsize 0\n",
      "PROGRESS: at 97.67% examples, 183501 words/s, in_qsize 0, out_qsize 0\n",
      "PROGRESS: at 98.78% examples, 183801 words/s, in_qsize 0, out_qsize 0\n",
      "worker thread finished; awaiting finish of 2 more threads\n",
      "PROGRESS: at 99.98% examples, 183696 words/s, in_qsize 1, out_qsize 1\n"
     ]
    },
    {
     "name": "stdout",
     "output_type": "stream",
     "text": [
      "worker thread finished; awaiting finish of 1 more threads\n",
      "worker thread finished; awaiting finish of 0 more threads\n",
      "training on 26217850 raw words (18025186 effective words) took 98.1s, 183712 effective words/s\n"
     ]
    }
   ],
   "source": [
    "from nltk.corpus import gutenberg\n",
    "from gensim import models\n",
    "\n",
    "# Training word2vec model on Gutenberg corpus. This may take a few minutes.\n",
    "model = models.Word2Vec(gutenberg.sents(), size = 300, window = 5, min_count =5, sg = 0, alpha = 0.025, iter=10, batch_words = 10000)"
   ]
  },
  {
   "cell_type": "markdown",
   "metadata": {},
   "source": [
    "![](http://multithreaded.stitchfix.com/assets/images/blog/vectors.gif)"
   ]
  },
  {
   "cell_type": "markdown",
   "metadata": {},
   "source": [
    "The word vectors are directions in space and can encode relationships between words.  \n",
    "\n",
    "The proximity of words to each other can be calculated through their cosine similarity."
   ]
  },
  {
   "cell_type": "code",
   "execution_count": 20,
   "metadata": {},
   "outputs": [
    {
     "name": "stdout",
     "output_type": "stream",
     "text": [
      "precomputing L2-norms of word weight vectors\n"
     ]
    },
    {
     "data": {
      "text/plain": [
       "[('girl', 0.7028565406799316),\n",
       " ('child', 0.7010887861251831),\n",
       " ('lad', 0.6638487577438354),\n",
       " ('Farmer', 0.6618794798851013),\n",
       " ('maid', 0.6375283002853394),\n",
       " ('gentleman', 0.6298720836639404),\n",
       " ('dog', 0.6218686103820801),\n",
       " ('fellow', 0.6167354583740234),\n",
       " ('carpenter', 0.6009632349014282),\n",
       " ('lover', 0.6000135540962219)]"
      ]
     },
     "execution_count": 20,
     "metadata": {},
     "output_type": "execute_result"
    }
   ],
   "source": [
    "model.wv.most_similar(positive=['boy'])"
   ]
  },
  {
   "cell_type": "code",
   "execution_count": 21,
   "metadata": {},
   "outputs": [
    {
     "data": {
      "text/plain": [
       "[('cattle', 0.663178026676178),\n",
       " ('bread', 0.6592459678649902),\n",
       " ('fruits', 0.6554306745529175),\n",
       " ('flocks', 0.6438690423965454),\n",
       " ('grapes', 0.6433919668197632),\n",
       " ('fruit', 0.6313921809196472),\n",
       " ('money', 0.6305223107337952),\n",
       " ('wine', 0.6153505444526672),\n",
       " ('meat', 0.6142132878303528),\n",
       " ('sheep', 0.6097452044487)]"
      ]
     },
     "execution_count": 21,
     "metadata": {},
     "output_type": "execute_result"
    }
   ],
   "source": [
    "model.wv.most_similar(positive=['food'])"
   ]
  },
  {
   "cell_type": "code",
   "execution_count": 22,
   "metadata": {},
   "outputs": [
    {
     "data": {
      "text/plain": [
       "[('Cecilia', 0.4503798186779022),\n",
       " ('treacherous', 0.4389117360115051),\n",
       " ('Mary', 0.4288462996482849),\n",
       " ('Anne', 0.42407548427581787),\n",
       " ('particularly', 0.41419678926467896),\n",
       " ('suited', 0.3981710970401764),\n",
       " ('Emma', 0.39410048723220825),\n",
       " ('diplomacy', 0.3867933750152588),\n",
       " ('Fairfax', 0.3854631185531616),\n",
       " ('grateful', 0.3798571228981018)]"
      ]
     },
     "execution_count": 22,
     "metadata": {},
     "output_type": "execute_result"
    }
   ],
   "source": [
    "model.wv.most_similar(positive=['she','her','hers','herself'], negative=['he','him','his','himself'])\n",
    "# she + her + hers + herself - he - him - his - himself"
   ]
  },
  {
   "cell_type": "code",
   "execution_count": 31,
   "metadata": {},
   "outputs": [],
   "source": [
    "# Let's limit ourselves to top 50 words that related to food to visualize how they relate in vector space\n",
    "f_tokens = [token for token,weight in model.wv.most_similar(positive=['food'], topn=50)]"
   ]
  },
  {
   "cell_type": "code",
   "execution_count": 32,
   "metadata": {
    "collapsed": true
   },
   "outputs": [],
   "source": [
    "from sklearn.metrics import pairwise\n",
    "vectors = [model.wv[word] for word in f_tokens]\n",
    "dist_matrix = pairwise.pairwise_distances(vectors, metric='cosine')"
   ]
  },
  {
   "cell_type": "code",
   "execution_count": 33,
   "metadata": {
    "collapsed": true
   },
   "outputs": [],
   "source": [
    "from sklearn.manifold import MDS\n",
    "mds = MDS(n_components = 2, dissimilarity='precomputed')\n",
    "embeddings = mds.fit_transform(dist_matrix)"
   ]
  },
  {
   "cell_type": "code",
   "execution_count": 34,
   "metadata": {},
   "outputs": [
    {
     "data": {
      "image/png": "[encoded data removed]",
      "text/plain": [
       "<matplotlib.figure.Figure at 0x1350fa438>"
      ]
     },
     "metadata": {},
     "output_type": "display_data"
    }
   ],
   "source": [
    "import matplotlib.pyplot as plt\n",
    "%matplotlib inline\n",
    "\n",
    "\n",
    "_, ax = plt.subplots(figsize=(14,10))\n",
    "ax.scatter(embeddings[:,0], embeddings[:,1], alpha=0)\n",
    "for i in range(len(vectors)):\n",
    "    ax.annotate(f_tokens[i], ((embeddings[i,0], embeddings[i,1])))"
   ]
  },
  {
   "cell_type": "markdown",
   "metadata": {},
   "source": [
    "**What kind of clusters of food-themed terms can you notice?**"
   ]
  },
  {
   "cell_type": "markdown",
   "metadata": {},
   "source": [
    "# Doc2Vec"
   ]
  },
  {
   "cell_type": "markdown",
   "metadata": {
    "collapsed": true
   },
   "source": [
    "---\n",
    "Doc2Vec, the most powerful extension of word2vec\n",
    "---\n",
    "\n",
    "Doc2vec (aka paragraph2vec or sentence embeddings) extrapolates the word2vec algorithm to larger blocks of text, such as sentences, paragraphs or entire documents. \n",
    "\n",
    "![](images/overview_word.png)\n",
    "\n",
    "![](images/overview_paragraph.png)\n",
    "\n",
    "Every paragraph is mapped to a unique vector, represented by a column in matrix D and every word is also mapped to a unique vector, represented by a column in matrix W . \n",
    "The paragraph vector and word vectors are averaged or concatenated to predict the next word in a context. \n",
    "\n",
    "Each additional context does not have be a fixed length (because it is vectorized and projected into the same space).\n",
    "\n",
    "Additional parameters but the updates are sparse thus still efficent.\n",
    "\n",
    "__2 architectures__:\n",
    "\n",
    "1. Distrubted Memory (DM)\n",
    "2. Distrubted Bag of Words (DBOW)"
   ]
  },
  {
   "cell_type": "markdown",
   "metadata": {},
   "source": [
    "## Distrubted Memory (DM)\n",
    "\n",
    "__Highlights__:\n",
    "\n",
    "- Assign and randomly initialize paragraph vector for each doc\n",
    "- Predict next word using context words and paragraph vector\n",
    "- Slide context window across doc but keep paragraph vector fixed (hence: Distrubted Memory)\n",
    "- Update weights via SGD and backprop"
   ]
  },
  {
   "cell_type": "markdown",
   "metadata": {},
   "source": [
    "## Distrubted Bag of Words (DBOW)\n",
    "\n",
    "__Highlights__:\n",
    "\n",
    "- ONLY use paragraph vectors (no word vectors)\n",
    "- Take a window of words in a paragraph and randomly sample which ones to predict using paragraph vector\n",
    "- Simpler, more memory effecient\n",
    "\n",
    "![](images/DBOW.png)"
   ]
  },
  {
   "cell_type": "markdown",
   "metadata": {},
   "source": [
    "Let's try building our own Doc2Vec model with Gensim"
   ]
  },
  {
   "cell_type": "markdown",
   "metadata": {},
   "source": [
    "Doc2Vec Parameters\n",
    "- `size`: Number of dimensions for the embedding model\n",
    "- `window`: Number of context words to observe in each direction within a document\n",
    "- `min_count`: Minimum frequency for words included in model\n",
    "- `dm` (distributed memory): '0' indicates DBOW model; '1' indicates DM\n",
    "- `alpha`: Learning rate (initial); prevents model from over-correcting, enables finer tuning\n",
    "- `iter`: Number of iterations through corpus"
   ]
  },
  {
   "cell_type": "code",
   "execution_count": 35,
   "metadata": {},
   "outputs": [
    {
     "name": "stdout",
     "output_type": "stream",
     "text": [
      "collecting all words and their counts\n",
      "PROGRESS: at example #0, processed 0 words (0/s), 0 word types, 0 tags\n",
      "PROGRESS: at example #10000, processed 1431895 words (4396683/s), 60881 word types, 10000 tags\n",
      "collected 63348 word types and 10788 unique tags from a corpus of 10788 examples and 1548468 words\n",
      "Loading a fresh vocabulary\n",
      "min_count=5 retains 15255 unique words (24% of original 63348, drops 48093)\n",
      "min_count=5 leaves 1472770 word corpus (95% of original 1548468, drops 75698)\n",
      "deleting the raw counts dictionary of 63348 items\n",
      "sample=0.001 downsamples 45 most-common words\n",
      "downsampling leaves estimated 1118059 word corpus (75.9% of prior 1472770)\n",
      "estimated required memory for 15255 words and 300 dimensions: 57185100 bytes\n",
      "resetting layer weights\n"
     ]
    }
   ],
   "source": [
    "from gensim.models import Doc2Vec\n",
    "from gensim.models.doc2vec import TaggedDocument\n",
    "from nltk.corpus import reuters\n",
    "\n",
    "# Tokenize Reuters corpus\n",
    "tokenized_docs = [nltk.word_tokenize(reuters.raw(fileid)) for fileid in reuters.fileids()]\n",
    "\n",
    "# Convert tokenized documents to TaggedDocuments\n",
    "tagged_docs = [TaggedDocument(doc, tags=[idx]) for idx, doc in enumerate(tokenized_docs)]\n",
    "\n",
    "# Create and train the doc2vec model. May take a few seconds\n",
    "doc2vec = Doc2Vec(size=300, window=5, min_count=5, dm = 1, iter=10)\n",
    "\n",
    "# Build the word2vec model from the corpus\n",
    "doc2vec.build_vocab(tagged_docs)"
   ]
  },
  {
   "cell_type": "markdown",
   "metadata": {},
   "source": [
    "You can also fortify your Doc2Vec models with pre-trained Word2Vec models.\n",
    "Let's try re-training with GoogleNews-trained word vectors.  \n",
    "Download [here](https://drive.google.com/file/d/0B7XkCwpI5KDYNlNUTTlSS21pQmM/edit?usp=sharing)  \n",
    "(Size is 1.5gb)"
   ]
  },
  {
   "cell_type": "code",
   "execution_count": null,
   "metadata": {
    "collapsed": true
   },
   "outputs": [],
   "source": [
    "#This may take a few minutes to run\n",
    "w2v_loc = # your saved location of GoogleNews-vectors-negative300.bin.gz\n",
    "doc2vec.intersect_word2vec_format(w2v_loc, binary=True)"
   ]
  },
  {
   "cell_type": "code",
   "execution_count": 39,
   "metadata": {},
   "outputs": [
    {
     "name": "stdout",
     "output_type": "stream",
     "text": [
      "training model with 3 workers on 15255 vocabulary and 300 features, using sg=0 hs=0 sample=0.001 negative=5 window=5\n",
      "PROGRESS: at 4.56% examples, 501506 words/s, in_qsize 6, out_qsize 0\n",
      "PROGRESS: at 9.25% examples, 518806 words/s, in_qsize 6, out_qsize 0\n",
      "PROGRESS: at 14.56% examples, 541083 words/s, in_qsize 5, out_qsize 0\n",
      "PROGRESS: at 19.44% examples, 545440 words/s, in_qsize 5, out_qsize 0\n",
      "PROGRESS: at 24.75% examples, 553349 words/s, in_qsize 6, out_qsize 0\n",
      "PROGRESS: at 28.82% examples, 537311 words/s, in_qsize 5, out_qsize 0\n",
      "PROGRESS: at 32.49% examples, 519493 words/s, in_qsize 5, out_qsize 0\n",
      "PROGRESS: at 36.55% examples, 511619 words/s, in_qsize 5, out_qsize 0\n",
      "PROGRESS: at 40.50% examples, 504437 words/s, in_qsize 5, out_qsize 0\n",
      "PROGRESS: at 45.47% examples, 507292 words/s, in_qsize 6, out_qsize 0\n",
      "PROGRESS: at 50.50% examples, 513053 words/s, in_qsize 5, out_qsize 0\n",
      "PROGRESS: at 55.35% examples, 514623 words/s, in_qsize 6, out_qsize 0\n",
      "PROGRESS: at 59.87% examples, 515344 words/s, in_qsize 6, out_qsize 0\n",
      "PROGRESS: at 64.39% examples, 512104 words/s, in_qsize 6, out_qsize 0\n",
      "PROGRESS: at 68.21% examples, 506879 words/s, in_qsize 5, out_qsize 0\n",
      "PROGRESS: at 73.00% examples, 507863 words/s, in_qsize 5, out_qsize 0\n",
      "PROGRESS: at 78.15% examples, 512007 words/s, in_qsize 5, out_qsize 0\n",
      "PROGRESS: at 83.46% examples, 516562 words/s, in_qsize 6, out_qsize 0\n",
      "PROGRESS: at 88.90% examples, 521565 words/s, in_qsize 6, out_qsize 0\n",
      "PROGRESS: at 94.39% examples, 525719 words/s, in_qsize 5, out_qsize 0\n",
      "PROGRESS: at 99.62% examples, 528600 words/s, in_qsize 5, out_qsize 0\n",
      "worker thread finished; awaiting finish of 2 more threads\n",
      "worker thread finished; awaiting finish of 1 more threads\n",
      "worker thread finished; awaiting finish of 0 more threads\n",
      "training on 15484680 raw words (11287240 effective words) took 21.4s, 528654 effective words/s\n"
     ]
    },
    {
     "data": {
      "text/plain": [
       "11287240"
      ]
     },
     "execution_count": 39,
     "metadata": {},
     "output_type": "execute_result"
    }
   ],
   "source": [
    "doc2vec.train(tagged_docs, epochs=10, total_examples=doc2vec.corpus_count)"
   ]
  },
  {
   "cell_type": "markdown",
   "metadata": {},
   "source": [
    "# Exercises"
   ]
  },
  {
   "cell_type": "markdown",
   "metadata": {},
   "source": [
    "Using what you have learned from Week 1 and today's lecture, build a binary classifier for the movie reviews dataset in `data/movie_reviews.csv`."
   ]
  },
  {
   "cell_type": "code",
   "execution_count": null,
   "metadata": {
    "collapsed": true
   },
   "outputs": [],
   "source": []
  }
 ],
 "metadata": {
  "kernelspec": {
   "display_name": "Python 3",
   "language": "python",
   "name": "python3"
  },
  "language_info": {
   "codemirror_mode": {
    "name": "ipython",
    "version": 3
   },
   "file_extension": ".py",
   "mimetype": "text/x-python",
   "name": "python",
   "nbconvert_exporter": "python",
   "pygments_lexer": "ipython3",
   "version": "3.6.3"
  },
  "toc": {
   "colors": {
    "hover_highlight": "#DAA520",
    "running_highlight": "#FF0000",
    "selected_highlight": "#FFD700"
   },
   "moveMenuLeft": true,
   "nav_menu": {
    "height": "248px",
    "width": "252px"
   },
   "navigate_menu": true,
   "number_sections": true,
   "sideBar": true,
   "threshold": 4,
   "toc_cell": true,
   "toc_section_display": "block",
   "toc_window_display": false
  }
 },
 "nbformat": 4,
 "nbformat_minor": 2
}
