{
 "cells": [
  {
   "cell_type": "markdown",
   "metadata": {},
   "source": [
    "# Final Presentation"
   ]
  },
  {
   "cell_type": "markdown",
   "metadata": {},
   "source": [
    "## Pipeline"
   ]
  },
  {
   "cell_type": "markdown",
   "metadata": {},
   "source": [
    "<img style=\"float: right;\" src=\"https://raw.githubusercontent.com/Mt-Kunlun/MarkdownPhotos/master/Res/pipeline.png\" width=\"100%\">"
   ]
  },
  {
   "cell_type": "markdown",
   "metadata": {},
   "source": [
    "## Preparation"
   ]
  },
  {
   "cell_type": "code",
   "execution_count": 17,
   "metadata": {},
   "outputs": [
    {
     "name": "stderr",
     "output_type": "stream",
     "text": [
      "E:\\Anaconda3\\lib\\site-packages\\sklearn\\cross_validation.py:41: DeprecationWarning: This module was deprecated in version 0.18 in favor of the model_selection module into which all the refactored classes and functions are moved. Also note that the interface of the new CV iterators are different from that of this module. This module will be removed in 0.20.\n",
      "  \"This module will be removed in 0.20.\", DeprecationWarning)\n",
      "E:\\Anaconda3\\lib\\site-packages\\sklearn\\grid_search.py:42: DeprecationWarning: This module was deprecated in version 0.18 in favor of the model_selection module into which all the refactored classes and functions are moved. This module will be removed in 0.20.\n",
      "  DeprecationWarning)\n"
     ]
    }
   ],
   "source": [
    "import pandas as pd\n",
    "import sklearn\n",
    "from sklearn.model_selection import train_test_split\n",
    "import numpy as np\n",
    "import nltk\n",
    "from nltk.corpus import stopwords\n",
    "from string import punctuation\n",
    "from gensim import corpora\n",
    "from gensim.models import Doc2Vec\n",
    "from gensim.models.doc2vec import TaggedDocument\n",
    "from nltk.corpus import reuters\n",
    "from sklearn.feature_extraction.text import TfidfVectorizer\n",
    "from sklearn.metrics import classification_report\n",
    "from xgboost import XGBClassifier\n",
    "from xgboost.sklearn import XGBClassifier\n",
    "from sklearn import cross_validation, metrics\n",
    "from sklearn.grid_search import GridSearchCV, RandomizedSearchCV\n",
    "from sklearn.model_selection import train_test_split"
   ]
  },
  {
   "cell_type": "code",
   "execution_count": 2,
   "metadata": {},
   "outputs": [
    {
     "data": {
      "text/html": [
       "<div>\n",
       "<style>\n",
       "    .dataframe thead tr:only-child th {\n",
       "        text-align: right;\n",
       "    }\n",
       "\n",
       "    .dataframe thead th {\n",
       "        text-align: left;\n",
       "    }\n",
       "\n",
       "    .dataframe tbody tr th {\n",
       "        vertical-align: top;\n",
       "    }\n",
       "</style>\n",
       "<table border=\"1\" class=\"dataframe\">\n",
       "  <thead>\n",
       "    <tr style=\"text-align: right;\">\n",
       "      <th></th>\n",
       "      <th>Unnamed: 0</th>\n",
       "      <th>title</th>\n",
       "      <th>text</th>\n",
       "      <th>label</th>\n",
       "      <th>title_vectors</th>\n",
       "    </tr>\n",
       "  </thead>\n",
       "  <tbody>\n",
       "    <tr>\n",
       "      <th>0</th>\n",
       "      <td>8476</td>\n",
       "      <td>You Can Smell Hillary’s Fear</td>\n",
       "      <td>Daniel Greenfield, a Shillman Journalism Fello...</td>\n",
       "      <td>FAKE</td>\n",
       "      <td>[ 1.1533764e-02  4.2144405e-03  1.9692603e-02 ...</td>\n",
       "    </tr>\n",
       "    <tr>\n",
       "      <th>1</th>\n",
       "      <td>10294</td>\n",
       "      <td>Watch The Exact Moment Paul Ryan Committed Pol...</td>\n",
       "      <td>Google Pinterest Digg Linkedin Reddit Stumbleu...</td>\n",
       "      <td>FAKE</td>\n",
       "      <td>[ 0.11267698  0.02518966 -0.00212591  0.021095...</td>\n",
       "    </tr>\n",
       "    <tr>\n",
       "      <th>2</th>\n",
       "      <td>3608</td>\n",
       "      <td>Kerry to go to Paris in gesture of sympathy</td>\n",
       "      <td>U.S. Secretary of State John F. Kerry said Mon...</td>\n",
       "      <td>REAL</td>\n",
       "      <td>[ 0.04253004  0.04300297  0.01848392  0.048672...</td>\n",
       "    </tr>\n",
       "    <tr>\n",
       "      <th>3</th>\n",
       "      <td>10142</td>\n",
       "      <td>Bernie supporters on Twitter erupt in anger ag...</td>\n",
       "      <td>— Kaydee King (@KaydeeKing) November 9, 2016 T...</td>\n",
       "      <td>FAKE</td>\n",
       "      <td>[ 0.10801624  0.11583211  0.02874823  0.061732...</td>\n",
       "    </tr>\n",
       "    <tr>\n",
       "      <th>4</th>\n",
       "      <td>875</td>\n",
       "      <td>The Battle of New York: Why This Primary Matters</td>\n",
       "      <td>It's primary day in New York and front-runners...</td>\n",
       "      <td>REAL</td>\n",
       "      <td>[ 1.69016439e-02  7.13498285e-03 -7.81233795e-...</td>\n",
       "    </tr>\n",
       "  </tbody>\n",
       "</table>\n",
       "</div>"
      ],
      "text/plain": [
       "   Unnamed: 0                                              title  \\\n",
       "0        8476                       You Can Smell Hillary’s Fear   \n",
       "1       10294  Watch The Exact Moment Paul Ryan Committed Pol...   \n",
       "2        3608        Kerry to go to Paris in gesture of sympathy   \n",
       "3       10142  Bernie supporters on Twitter erupt in anger ag...   \n",
       "4         875   The Battle of New York: Why This Primary Matters   \n",
       "\n",
       "                                                text label  \\\n",
       "0  Daniel Greenfield, a Shillman Journalism Fello...  FAKE   \n",
       "1  Google Pinterest Digg Linkedin Reddit Stumbleu...  FAKE   \n",
       "2  U.S. Secretary of State John F. Kerry said Mon...  REAL   \n",
       "3  — Kaydee King (@KaydeeKing) November 9, 2016 T...  FAKE   \n",
       "4  It's primary day in New York and front-runners...  REAL   \n",
       "\n",
       "                                       title_vectors  \n",
       "0  [ 1.1533764e-02  4.2144405e-03  1.9692603e-02 ...  \n",
       "1  [ 0.11267698  0.02518966 -0.00212591  0.021095...  \n",
       "2  [ 0.04253004  0.04300297  0.01848392  0.048672...  \n",
       "3  [ 0.10801624  0.11583211  0.02874823  0.061732...  \n",
       "4  [ 1.69016439e-02  7.13498285e-03 -7.81233795e-...  "
      ]
     },
     "execution_count": 2,
     "metadata": {},
     "output_type": "execute_result"
    }
   ],
   "source": [
    "df = pd.read_csv('C:\\\\Users\\\\51645\\\\Desktop\\\\fake_news\\\\fake_or_real_news.csv')\n",
    "df1 = pd.read_csv('C:\\\\Users\\\\51645\\\\Desktop\\\\fake_news\\\\fake.csv')\n",
    "#fake news dataset from https://www.kaggle.com/burakhmmtgl/exploratory-analysis/data\n",
    "df2 = pd.read_csv('C:\\\\Users\\\\51645\\\\Desktop\\\\fake_news\\\\Real.csv')\n",
    "#real news dataset from https://www.kaggle.com/snapcrack/all-the-news/data\n",
    "df.head()"
   ]
  },
  {
   "cell_type": "markdown",
   "metadata": {},
   "source": [
    "## Clean Data"
   ]
  },
  {
   "cell_type": "code",
   "execution_count": 3,
   "metadata": {
    "collapsed": true
   },
   "outputs": [],
   "source": [
    "def clean_text(tokenized_list, sw):\n",
    "    new_list = []\n",
    "    nodes = [',', '*', '\"', '.', '\\'', '“', '”', '’', '‘', '，']\n",
    "    for doc in tokenized_list:\n",
    "        new_list.append([token.lower() for token in doc if token.lower() not in sw and token.lower() not in nodes])\n",
    "    return new_list\n",
    "\n",
    "texts = df.text\n",
    "\n",
    "#create mapping for string translate method\n",
    "mapping_table = {ord(char): u' ' for char in punctuation}\n",
    "\n",
    "tokenized = [nltk.word_tokenize(review.translate(mapping_table)) for review in texts]\n",
    "\n",
    "# Remove punctuations and stopwords, and lower-case text\n",
    "sw = stopwords.words('english')\n",
    "cleaned = clean_text(tokenized, sw)"
   ]
  },
  {
   "cell_type": "markdown",
   "metadata": {},
   "source": [
    "## Get TF-IDF for each text"
   ]
  },
  {
   "cell_type": "code",
   "execution_count": 4,
   "metadata": {
    "collapsed": true
   },
   "outputs": [],
   "source": [
    "vectorizer = TfidfVectorizer()\n",
    "Tf_fit = []\n",
    "# for each text, turn the text into list of words\n",
    "for article in cleaned:\n",
    "    str = ''\n",
    "    for i in article:\n",
    "        str += i\n",
    "        str += ' '\n",
    "    Tf_fit.append(str)"
   ]
  },
  {
   "cell_type": "code",
   "execution_count": 5,
   "metadata": {},
   "outputs": [
    {
     "name": "stdout",
     "output_type": "stream",
     "text": [
      "[[ 0.          0.          0.         ...,  0.          0.          0.        ]\n",
      " [ 0.          0.          0.         ...,  0.          0.          0.        ]\n",
      " [ 0.          0.          0.         ...,  0.          0.          0.        ]\n",
      " ..., \n",
      " [ 0.          0.01034503  0.         ...,  0.          0.          0.        ]\n",
      " [ 0.          0.01270221  0.         ...,  0.          0.          0.        ]\n",
      " [ 0.          0.          0.         ...,  0.          0.          0.        ]]\n",
      "67558\n"
     ]
    }
   ],
   "source": [
    "vectorizer.fit(Tf_fit)\n",
    "tfidf_matrix = vectorizer.transform(Tf_fit).toarray()\n",
    "print(tfidf_matrix)\n",
    "print(len(tfidf_matrix[0]))"
   ]
  },
  {
   "cell_type": "markdown",
   "metadata": {},
   "source": [
    "## PCA Decomposition for the TF-IDF matrix"
   ]
  },
  {
   "cell_type": "code",
   "execution_count": 6,
   "metadata": {},
   "outputs": [
    {
     "data": {
      "text/plain": [
       "'\\npca.fit(tfidf_matrix)\\nX_tf = pca.transform(tfidf_matrix)\\nX_tf.tofile(\"tfidf_matrix_500.bin\")\\n\\n'"
      ]
     },
     "execution_count": 6,
     "metadata": {},
     "output_type": "execute_result"
    }
   ],
   "source": [
    "from sklearn.decomposition import PCA\n",
    "from sklearn.discriminant_analysis import LinearDiscriminantAnalysis\n",
    "\n",
    "pca = PCA(n_components = 500)\n",
    "pca.fit(tfidf_matrix)\n",
    "X_tf = pca.transform(tfidf_matrix)\n",
    "X_tf.tofile(\"tfidf_matrix_500.bin\")"
   ]
  },
  {
   "cell_type": "markdown",
   "metadata": {},
   "source": [
    "## Prepare data for the classification"
   ]
  },
  {
   "cell_type": "code",
   "execution_count": 8,
   "metadata": {},
   "outputs": [
    {
     "data": {
      "text/plain": [
       "array([[ 0.08367505,  0.41453202, -0.1365418 , ..., -0.00349437,\n",
       "         0.00598387,  0.00284075],\n",
       "       [ 0.10516965, -0.1018543 , -0.07499441, ..., -0.01728784,\n",
       "        -0.01019226, -0.01649624],\n",
       "       [-0.08337797, -0.02132731,  0.09598185, ...,  0.00864918,\n",
       "         0.01190413,  0.03372494],\n",
       "       ..., \n",
       "       [ 0.09876725, -0.04909523,  0.00227706, ..., -0.00569073,\n",
       "        -0.00123435, -0.0120559 ],\n",
       "       [-0.07174388, -0.02140137,  0.10833566, ..., -0.010136  ,\n",
       "        -0.02771981, -0.01208612],\n",
       "       [ 0.31185574, -0.21482338, -0.04275505, ..., -0.00265663,\n",
       "        -0.00849138, -0.00640356]])"
      ]
     },
     "execution_count": 8,
     "metadata": {},
     "output_type": "execute_result"
    }
   ],
   "source": [
    "X_tf500 = np.fromfile(\"C:\\\\Users\\\\51645\\\\Desktop\\\\fake_news\\\\tfidf_matrix_6335_500.bin\")\n",
    "X_tf500.shape = 6335, 500\n",
    "X_tf500"
   ]
  },
  {
   "cell_type": "code",
   "execution_count": 11,
   "metadata": {
    "collapsed": true
   },
   "outputs": [],
   "source": [
    "X_ = np.fromfile('C:\\\\Users\\\\51645\\\\Desktop\\\\fake_news\\\\doc2vec_title300_text300_kunlun.bin')\n",
    "X_.shape = 6335, 600\n",
    "X_ = np.hstack((X_, X_tf500))\n",
    "y_ = np.fromfile('C:\\\\Users\\\\51645\\\\Desktop\\\\fake_news\\\\test_y_33.bin', dtype = int)"
   ]
  },
  {
   "cell_type": "code",
   "execution_count": 12,
   "metadata": {
    "collapsed": true
   },
   "outputs": [],
   "source": [
    "seed = 42\n",
    "test_size = 0.33\n",
    "X_train, X_test, y_train, y_test = train_test_split(X_, y_, test_size = test_size, random_state = seed)"
   ]
  },
  {
   "cell_type": "markdown",
   "metadata": {},
   "source": [
    "## Best XGBoost Result"
   ]
  },
  {
   "cell_type": "markdown",
   "metadata": {},
   "source": [
    "### Notice:\n",
    "For convience of looking, we omit the hyper tunning process here, which take lots of places."
   ]
  },
  {
   "cell_type": "markdown",
   "metadata": {},
   "source": [
    "### Input: 300 doc2vec for text, 300 word2vec for title, 500 TF-IDF vector\n",
    "### Result: F1: 0.947"
   ]
  },
  {
   "cell_type": "code",
   "execution_count": 28,
   "metadata": {},
   "outputs": [
    {
     "data": {
      "text/plain": [
       "XGBClassifier(base_score=0.5, booster='gbtree', colsample_bylevel=1,\n",
       "       colsample_bytree=1, gamma=0, learning_rate=0.06, max_delta_step=0,\n",
       "       max_depth=3, min_child_weight=1, missing=None, n_estimators=1400,\n",
       "       n_jobs=2, nthread=None, objective='binary:logistic', random_state=0,\n",
       "       reg_alpha=0, reg_lambda=1, scale_pos_weight=1, seed=None,\n",
       "       silent=True, subsample=1)"
      ]
     },
     "execution_count": 28,
     "metadata": {},
     "output_type": "execute_result"
    }
   ],
   "source": [
    "XGmodel = XGBClassifier(base_score=0.5, booster='gbtree', colsample_bylevel=1,\n",
    "           colsample_bytree=1, gamma=0, learning_rate=0.06, max_delta_step=0,\n",
    "           max_depth=3, min_child_weight=1, missing=None, n_estimators=1400,\n",
    "           n_jobs=2, nthread=None, objective='binary:logistic', random_state=0,\n",
    "           reg_alpha=0, reg_lambda=1, scale_pos_weight=1, seed=None,\n",
    "           silent=True, subsample=1)\n",
    "\n",
    "XGmodel.fit(X_train, y_train)\n"
   ]
  },
  {
   "cell_type": "code",
   "execution_count": 27,
   "metadata": {},
   "outputs": [
    {
     "data": {
      "image/png": "[encoded data removed]",
      "text/plain": [
       "<matplotlib.figure.Figure at 0x150d4eb7780>"
      ]
     },
     "metadata": {},
     "output_type": "display_data"
    },
    {
     "data": {
      "text/plain": [
       "<matplotlib.figure.Figure at 0x150dc22ae80>"
      ]
     },
     "metadata": {},
     "output_type": "display_data"
    }
   ],
   "source": [
    "from xgboost import plot_importance\n",
    "from matplotlib import pyplot\n",
    "\n",
    "plot_importance(XGmodel)\n",
    "pyplot.figure(figsize = (1200, 1200))\n",
    "pyplot.show()"
   ]
  },
  {
   "cell_type": "code",
   "execution_count": 29,
   "metadata": {},
   "outputs": [
    {
     "name": "stdout",
     "output_type": "stream",
     "text": [
      "             precision    recall  f1-score   support\n",
      "\n",
      "       Fake       0.94      0.96      0.95      1071\n",
      "       Real       0.95      0.94      0.95      1020\n",
      "\n",
      "avg / total       0.95      0.95      0.95      2091\n",
      "\n",
      "F1 score: 0.947160493827\n"
     ]
    }
   ],
   "source": [
    "from sklearn.metrics import classification_report\n",
    "\n",
    "y_pred1 = XGmodel.predict(X_test)\n",
    "target_names = ['Fake', 'Real']\n",
    "print(classification_report(y_test, y_pred1, target_names=target_names))\n",
    "f1 = metrics.f1_score(y_test, y_pred1)\n",
    "print('F1 score:', f1)"
   ]
  },
  {
   "cell_type": "markdown",
   "metadata": {},
   "source": [
    "## Best Random Forrests Model"
   ]
  },
  {
   "cell_type": "code",
   "execution_count": 43,
   "metadata": {},
   "outputs": [
    {
     "name": "stdout",
     "output_type": "stream",
     "text": [
      "              precision    recall  f1-score   support\n",
      "\n",
      "Not Admitted       0.80      0.94      0.86      1071\n",
      "    Admitted       0.92      0.76      0.83      1020\n",
      "\n",
      " avg / total       0.86      0.85      0.85      2091\n",
      "\n",
      "F1 score: 0.829924650161\n"
     ]
    }
   ],
   "source": [
    "from sklearn.ensemble import RandomForestClassifier\n",
    "rdf = RandomForestClassifier(n_estimators=10, criterion='gini', max_depth=None, min_samples_split=2, min_samples_leaf=1,\n",
    "                             min_weight_fraction_leaf=0.0, max_features='auto', max_leaf_nodes=None, min_impurity_decrease=0.0,\n",
    "                             min_impurity_split=None, bootstrap=True,\n",
    "                             oob_score=False, n_jobs=1, random_state=None, verbose=0, warm_start=False, class_weight=None)\n",
    "rdf = clf.fit(X_train, y_train)\n",
    "y_pred2 = clf.predict(X_test)\n",
    "rdf.score(X_test, y_test)\n",
    "\n",
    "print(classification_report(y_test, y_pred2, target_names = target_names))\n",
    "f1 = metrics.f1_score(y_test, y_pred2)\n",
    "print('F1 score:', f1)"
   ]
  },
  {
   "cell_type": "markdown",
   "metadata": {},
   "source": [
    "## Best MLP Model"
   ]
  },
  {
   "cell_type": "code",
   "execution_count": 42,
   "metadata": {},
   "outputs": [
    {
     "name": "stdout",
     "output_type": "stream",
     "text": [
      "              precision    recall  f1-score   support\n",
      "\n",
      "Not Admitted       0.93      0.92      0.93      1071\n",
      "    Admitted       0.92      0.93      0.92      1020\n",
      "\n",
      " avg / total       0.92      0.92      0.92      2091\n",
      "\n",
      "F1 score: 0.922776148583\n"
     ]
    }
   ],
   "source": [
    "from sklearn.neural_network import MLPClassifier\n",
    "MLP = MLPClassifier(hidden_layer_sizes=(100, ), activation='relu', solver='adam', alpha=0.0001, batch_size='auto',\n",
    "                    learning_rate='constant', learning_rate_init=0.001, power_t=0.5, max_iter=200, shuffle=True,\n",
    "                    random_state=None, tol=0.0001, verbose=False, warm_start=False, momentum=0.9, nesterovs_momentum=True,\n",
    "                    early_stopping=False, validation_fraction=0.1, beta_1=0.9, beta_2=0.999, epsilon=1e-08)\n",
    "MLP.fit(X_train, y_train)\n",
    "\n",
    "y_pred3 = MLP.predict(X_test)\n",
    "print(classification_report(y_test, y_pred3, target_names = target_names))\n",
    "f1 = metrics.f1_score(y_test, y_pred3)\n",
    "print('F1 score:', f1)"
   ]
  },
  {
   "cell_type": "markdown",
   "metadata": {},
   "source": [
    "## Best SVM Model"
   ]
  },
  {
   "cell_type": "code",
   "execution_count": 44,
   "metadata": {},
   "outputs": [
    {
     "name": "stdout",
     "output_type": "stream",
     "text": [
      "              precision    recall  f1-score   support\n",
      "\n",
      "Not Admitted       0.80      0.94      0.86      1071\n",
      "    Admitted       0.92      0.76      0.83      1020\n",
      "\n",
      " avg / total       0.86      0.85      0.85      2091\n",
      "\n",
      "F1 score: 0.829924650161\n"
     ]
    }
   ],
   "source": [
    "from sklearn import svm\n",
    "Svm = svm.SVC(C=1.0, kernel='rbf', degree=3, gamma='auto', coef0=0.0, shrinking=True, probability=False,\n",
    "              tol=0.001, cache_size=200,\n",
    "              class_weight=None, verbose=False, max_iter=-1, decision_function_shape='ovr', random_state=None)\n",
    "Svm.fit(X_train, y_train)\n",
    "\n",
    "y_pred4 = clf.predict(X_test)\n",
    "Svm.score(X_test, y_test)\n",
    "\n",
    "print(classification_report(y_test, y_pred4, target_names = target_names))\n",
    "f1 = metrics.f1_score(y_test, y_pred4)\n",
    "print('F1 score:', f1)"
   ]
  },
  {
   "cell_type": "markdown",
   "metadata": {},
   "source": [
    "## Best Logistic Regression Model"
   ]
  },
  {
   "cell_type": "code",
   "execution_count": 45,
   "metadata": {},
   "outputs": [
    {
     "name": "stdout",
     "output_type": "stream",
     "text": [
      "              precision    recall  f1-score   support\n",
      "\n",
      "Not Admitted       0.90      0.93      0.92      1071\n",
      "    Admitted       0.92      0.90      0.91      1020\n",
      "\n",
      " avg / total       0.91      0.91      0.91      2091\n",
      "\n",
      "F1 score: 0.909000497265\n"
     ]
    }
   ],
   "source": [
    "from sklearn.linear_model import LogisticRegression\n",
    "\n",
    "Logistic_model = LogisticRegression(penalty='l2', dual=False, tol=0.0001, C=1.0, fit_intercept=True, intercept_scaling=1, class_weight=None,\n",
    "                                    random_state=None,\n",
    "                                    solver='liblinear', max_iter=100, multi_class='ovr', verbose=0, warm_start=False, n_jobs=1)\n",
    "Logistic_model = model.fit(X_train, y_train)\n",
    "\n",
    "y_pred5 = model.predict(X_test)\n",
    "\n",
    "Logistic_model.score(X_test, y_test)\n",
    "\n",
    "from sklearn.metrics import classification_report\n",
    "\n",
    "target_names = ['Not Admitted', 'Admitted']\n",
    "\n",
    "print(classification_report(y_test, y_pred5, target_names=target_names))\n",
    "f1 = metrics.f1_score(y_test, y_pred5)\n",
    "print('F1 score:', f1)"
   ]
  },
  {
   "cell_type": "markdown",
   "metadata": {},
   "source": [
    "# Vote Model"
   ]
  },
  {
   "cell_type": "code",
   "execution_count": 47,
   "metadata": {
    "collapsed": true
   },
   "outputs": [],
   "source": [
    "def vote_func_5(X_test):\n",
    "    \n",
    "    y_pred1 = XGmodel.predict(X_test)\n",
    "    y_pred2 = rdf.predict(X_test)\n",
    "    y_pred3 = Svm.predict(X_test)\n",
    "    y_pred4 = Logistic_model.predict(X_test)\n",
    "    y_pred5 = MLP.predict(X_test)\n",
    "    \n",
    "    y_pred = []\n",
    "    for i in range(len(y_pred1)):\n",
    "        if y_pred1[i] + y_pred2[i] + y_pred3[i] + y_pred4[i] + y_pred5[i] >= 3:\n",
    "            y_pred.append(1)\n",
    "        else:\n",
    "            y_pred.append(0)\n",
    "    return y_pred"
   ]
  },
  {
   "cell_type": "code",
   "execution_count": 61,
   "metadata": {
    "collapsed": true
   },
   "outputs": [],
   "source": [
    "def vote_func_3(X_test):\n",
    "    \n",
    "    y_pred1 = XGmodel.predict(X_test)\n",
    "    y_pred2 = Logistic_model.predict(X_test)\n",
    "    y_pred3 = MLP.predict(X_test)\n",
    "    \n",
    "    y_pred = []\n",
    "    for i in range(len(y_pred1)):\n",
    "        if y_pred1[i] + y_pred2[i] + y_pred3[i] >= 2:\n",
    "            y_pred.append(1)\n",
    "        else:\n",
    "            y_pred.append(0)\n",
    "    return y_pred"
   ]
  },
  {
   "cell_type": "code",
   "execution_count": 63,
   "metadata": {
    "collapsed": true
   },
   "outputs": [],
   "source": [
    "def vote_func_2(X_test):\n",
    "    \n",
    "    y_pred1 = XGmodel.predict(X_test)\n",
    "    y_pred2 = MLP.predict(X_test)\n",
    "    \n",
    "    y_pred = []\n",
    "    for i in range(len(y_pred1)):\n",
    "        if y_pred1[i] + y_pred2[i] >= 1:\n",
    "            y_pred.append(1)\n",
    "        else:\n",
    "            y_pred.append(0)\n",
    "    return y_pred"
   ]
  },
  {
   "cell_type": "markdown",
   "metadata": {},
   "source": [
    "### Best five models"
   ]
  },
  {
   "cell_type": "code",
   "execution_count": 48,
   "metadata": {},
   "outputs": [
    {
     "name": "stdout",
     "output_type": "stream",
     "text": [
      "              precision    recall  f1-score   support\n",
      "\n",
      "Not Admitted       0.91      0.95      0.93      1071\n",
      "    Admitted       0.94      0.90      0.92      1020\n",
      "\n",
      " avg / total       0.92      0.92      0.92      2091\n",
      "\n",
      "F1 score: 0.918213748118\n"
     ]
    }
   ],
   "source": [
    "y_pred = vote_func_5(X_test)\n",
    "print(classification_report(y_test, y_pred, target_names=target_names))\n",
    "f1 = metrics.f1_score(y_test, y_pred)\n",
    "print('F1 score:', f1)"
   ]
  },
  {
   "cell_type": "markdown",
   "metadata": {},
   "source": [
    "### Best three models"
   ]
  },
  {
   "cell_type": "code",
   "execution_count": 62,
   "metadata": {},
   "outputs": [
    {
     "name": "stdout",
     "output_type": "stream",
     "text": [
      "              precision    recall  f1-score   support\n",
      "\n",
      "Not Admitted       0.93      0.94      0.94      1071\n",
      "    Admitted       0.94      0.92      0.93      1020\n",
      "\n",
      " avg / total       0.93      0.93      0.93      2091\n",
      "\n",
      "F1 score: 0.931683168317\n"
     ]
    }
   ],
   "source": [
    "y_pred = vote_func_3(X_test)\n",
    "print(classification_report(y_test, y_pred, target_names=target_names))\n",
    "f1 = metrics.f1_score(y_test, y_pred)\n",
    "print('F1 score:', f1)"
   ]
  },
  {
   "cell_type": "markdown",
   "metadata": {},
   "source": [
    "### Best two models"
   ]
  },
  {
   "cell_type": "code",
   "execution_count": 64,
   "metadata": {},
   "outputs": [
    {
     "name": "stdout",
     "output_type": "stream",
     "text": [
      "              precision    recall  f1-score   support\n",
      "\n",
      "Not Admitted       0.96      0.91      0.94      1071\n",
      "    Admitted       0.91      0.96      0.94      1020\n",
      "\n",
      " avg / total       0.94      0.94      0.94      2091\n",
      "\n",
      "F1 score: 0.935622317597\n"
     ]
    }
   ],
   "source": [
    "y_pred = vote_func_2(X_test)\n",
    "print(classification_report(y_test, y_pred, target_names=target_names))\n",
    "f1 = metrics.f1_score(y_test, y_pred)\n",
    "print('F1 score:', f1)"
   ]
  },
  {
   "cell_type": "markdown",
   "metadata": {},
   "source": [
    "# Conclusion"
   ]
  },
  {
   "cell_type": "markdown",
   "metadata": {
    "collapsed": true
   },
   "source": [
    "(1) The best size for TF-IDF is around 500  \n",
    "(2) The best F1-rate we get right now is around 0.95  \n",
    "(3) The Vote method didn't help as much as we thought it would be  \n",
    "(4) The best model we use is still XGBoost  "
   ]
  }
 ],
 "metadata": {
  "kernelspec": {
   "display_name": "Python 3",
   "language": "python",
   "name": "python3"
  },
  "language_info": {
   "codemirror_mode": {
    "name": "ipython",
    "version": 3
   },
   "file_extension": ".py",
   "mimetype": "text/x-python",
   "name": "python",
   "nbconvert_exporter": "python",
   "pygments_lexer": "ipython3",
   "version": "3.6.3"
  }
 },
 "nbformat": 4,
 "nbformat_minor": 2
}
