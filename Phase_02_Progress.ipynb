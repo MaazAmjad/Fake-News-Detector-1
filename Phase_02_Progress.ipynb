{
 "cells": [
  {
   "cell_type": "markdown",
   "metadata": {},
   "source": [
    "# Phase 2 progress"
   ]
  },
  {
   "cell_type": "markdown",
   "metadata": {},
   "source": [
    "## Data preprocessing\n",
    "\n",
    "In this part, I change the label into digital number from string and plot a graph via the length of text."
   ]
  },
  {
   "cell_type": "code",
   "execution_count": 1,
   "metadata": {},
   "outputs": [],
   "source": [
    "import pandas as pd\n",
    "import nltk"
   ]
  },
  {
   "cell_type": "code",
   "execution_count": 2,
   "metadata": {},
   "outputs": [
    {
     "name": "stdout",
     "output_type": "stream",
     "text": [
      "<class 'pandas.core.frame.DataFrame'>\n",
      "RangeIndex: 6335 entries, 0 to 6334\n",
      "Data columns (total 5 columns):\n",
      "Unnamed: 0       6335 non-null int64\n",
      "title            6335 non-null object\n",
      "text             6335 non-null object\n",
      "label            6335 non-null object\n",
      "title_vectors    6335 non-null object\n",
      "dtypes: int64(1), object(4)\n",
      "memory usage: 247.5+ KB\n"
     ]
    }
   ],
   "source": [
    "df = pd.read_csv('data/fake_or_real_news.csv', nrows=10000)\n",
    "df.info()"
   ]
  },
  {
   "cell_type": "code",
   "execution_count": 3,
   "metadata": {},
   "outputs": [
    {
     "data": {
      "text/html": [
       "<div>\n",
       "<style scoped>\n",
       "    .dataframe tbody tr th:only-of-type {\n",
       "        vertical-align: middle;\n",
       "    }\n",
       "\n",
       "    .dataframe tbody tr th {\n",
       "        vertical-align: top;\n",
       "    }\n",
       "\n",
       "    .dataframe thead th {\n",
       "        text-align: right;\n",
       "    }\n",
       "</style>\n",
       "<table border=\"1\" class=\"dataframe\">\n",
       "  <thead>\n",
       "    <tr style=\"text-align: right;\">\n",
       "      <th></th>\n",
       "      <th>title</th>\n",
       "      <th>text</th>\n",
       "      <th>label</th>\n",
       "      <th>title_vectors</th>\n",
       "    </tr>\n",
       "  </thead>\n",
       "  <tbody>\n",
       "    <tr>\n",
       "      <th>0</th>\n",
       "      <td>You Can Smell Hillary’s Fear</td>\n",
       "      <td>Daniel Greenfield, a Shillman Journalism Fello...</td>\n",
       "      <td>0</td>\n",
       "      <td>[ 1.1533764e-02  4.2144405e-03  1.9692603e-02 ...</td>\n",
       "    </tr>\n",
       "    <tr>\n",
       "      <th>1</th>\n",
       "      <td>Watch The Exact Moment Paul Ryan Committed Pol...</td>\n",
       "      <td>Google Pinterest Digg Linkedin Reddit Stumbleu...</td>\n",
       "      <td>0</td>\n",
       "      <td>[ 0.11267698  0.02518966 -0.00212591  0.021095...</td>\n",
       "    </tr>\n",
       "    <tr>\n",
       "      <th>2</th>\n",
       "      <td>Kerry to go to Paris in gesture of sympathy</td>\n",
       "      <td>U.S. Secretary of State John F. Kerry said Mon...</td>\n",
       "      <td>1</td>\n",
       "      <td>[ 0.04253004  0.04300297  0.01848392  0.048672...</td>\n",
       "    </tr>\n",
       "    <tr>\n",
       "      <th>3</th>\n",
       "      <td>Bernie supporters on Twitter erupt in anger ag...</td>\n",
       "      <td>— Kaydee King (@KaydeeKing) November 9, 2016 T...</td>\n",
       "      <td>0</td>\n",
       "      <td>[ 0.10801624  0.11583211  0.02874823  0.061732...</td>\n",
       "    </tr>\n",
       "    <tr>\n",
       "      <th>4</th>\n",
       "      <td>The Battle of New York: Why This Primary Matters</td>\n",
       "      <td>It's primary day in New York and front-runners...</td>\n",
       "      <td>1</td>\n",
       "      <td>[ 1.69016439e-02  7.13498285e-03 -7.81233795e-...</td>\n",
       "    </tr>\n",
       "  </tbody>\n",
       "</table>\n",
       "</div>"
      ],
      "text/plain": [
       "                                               title  \\\n",
       "0                       You Can Smell Hillary’s Fear   \n",
       "1  Watch The Exact Moment Paul Ryan Committed Pol...   \n",
       "2        Kerry to go to Paris in gesture of sympathy   \n",
       "3  Bernie supporters on Twitter erupt in anger ag...   \n",
       "4   The Battle of New York: Why This Primary Matters   \n",
       "\n",
       "                                                text  label  \\\n",
       "0  Daniel Greenfield, a Shillman Journalism Fello...      0   \n",
       "1  Google Pinterest Digg Linkedin Reddit Stumbleu...      0   \n",
       "2  U.S. Secretary of State John F. Kerry said Mon...      1   \n",
       "3  — Kaydee King (@KaydeeKing) November 9, 2016 T...      0   \n",
       "4  It's primary day in New York and front-runners...      1   \n",
       "\n",
       "                                       title_vectors  \n",
       "0  [ 1.1533764e-02  4.2144405e-03  1.9692603e-02 ...  \n",
       "1  [ 0.11267698  0.02518966 -0.00212591  0.021095...  \n",
       "2  [ 0.04253004  0.04300297  0.01848392  0.048672...  \n",
       "3  [ 0.10801624  0.11583211  0.02874823  0.061732...  \n",
       "4  [ 1.69016439e-02  7.13498285e-03 -7.81233795e-...  "
      ]
     },
     "execution_count": 3,
     "metadata": {},
     "output_type": "execute_result"
    }
   ],
   "source": [
    "df.drop('Unnamed: 0', inplace=True, axis=1)\n",
    "label_trans = lambda i: 0 if i == 'FAKE' else 1\n",
    "df.label = df.label.apply(label_trans)\n",
    "df.head()"
   ]
  },
  {
   "cell_type": "code",
   "execution_count": 4,
   "metadata": {},
   "outputs": [
    {
     "data": {
      "text/plain": [
       "<matplotlib.axes._subplots.AxesSubplot at 0x1a134502b0>"
      ]
     },
     "execution_count": 4,
     "metadata": {},
     "output_type": "execute_result"
    },
    {
     "data": {
      "image/png": "[encoded data removed]",
      "text/plain": [
       "<matplotlib.figure.Figure at 0x1a1325c278>"
      ]
     },
     "metadata": {},
     "output_type": "display_data"
    }
   ],
   "source": [
    "import matplotlib\n",
    "%matplotlib inline\n",
    "df['text'].str.len().plot(kind = 'hist', bins = 1000, figsize = (7,5))"
   ]
  },
  {
   "cell_type": "markdown",
   "metadata": {},
   "source": [
    "## Term document\n",
    "\n",
    "The contents in text are vary from each other. To normalize them, I transfer all the words into lowercase words and filter all the punctuations. And then tokenize them into a word list."
   ]
  },
  {
   "cell_type": "code",
   "execution_count": 5,
   "metadata": {},
   "outputs": [],
   "source": [
    "from string import punctuation\n",
    "texts = df.text\n",
    "mapping_table = {ord(char): u' ' for char in punctuation}\n",
    "tokenized = [nltk.word_tokenize(review.translate(mapping_table)) for review in texts]"
   ]
  },
  {
   "cell_type": "code",
   "execution_count": 6,
   "metadata": {},
   "outputs": [],
   "source": [
    "def clean_text(tokenized_list):\n",
    "    import string\n",
    "    sw = nltk.corpus.stopwords.words('english')\n",
    "    sw.append(\"“\")\n",
    "    sw.append(\"”\")\n",
    "    sw.append(\"’\")\n",
    "    sw.append(\"‘\")\n",
    "    sw.append(\"—\")\n",
    "    new_list = [[token.lower() for token in tlist if token not in string.punctuation and token.lower() not in sw] for tlist in tokenized_list]\n",
    "    return new_list\n",
    "cleaned = clean_text(tokenized)"
   ]
  },
  {
   "cell_type": "code",
   "execution_count": 7,
   "metadata": {},
   "outputs": [],
   "source": [
    "from gensim.models import Doc2Vec, Word2Vec\n",
    "from gensim.models.doc2vec import TaggedDocument\n",
    "from nltk.corpus import reuters\n",
    "\n",
    "tokenized_docs = [nltk.word_tokenize(reuters.raw(fileid)) for fileid in reuters.fileids()]\n",
    "tagged_docs = [TaggedDocument(doc, tags=[idx]) for idx, doc in enumerate(cleaned)]"
   ]
  },
  {
   "cell_type": "markdown",
   "metadata": {},
   "source": [
    "## Vector transition\n",
    "\n",
    "I use two ways to transit the words showed up in the word list that I created in last step: Word2Vec and Doc2Vec, and right now I can't tell which one is better."
   ]
  },
  {
   "cell_type": "code",
   "execution_count": 8,
   "metadata": {},
   "outputs": [],
   "source": [
    "word_model = Word2Vec(cleaned, size = 300, window = 5, min_count = 1, alpha = 0.025, iter=10, batch_words = 10000)"
   ]
  },
  {
   "cell_type": "code",
   "execution_count": 9,
   "metadata": {},
   "outputs": [
    {
     "data": {
      "text/plain": [
       "27020435"
      ]
     },
     "execution_count": 9,
     "metadata": {},
     "output_type": "execute_result"
    }
   ],
   "source": [
    "doc_model = Doc2Vec(size=300, window=5, min_count=5, dm = 1, iter=10)\n",
    "doc_model.build_vocab(tagged_docs)\n",
    "doc_model.train(tagged_docs, epochs=10, total_examples=doc_model.corpus_count)"
   ]
  },
  {
   "cell_type": "code",
   "execution_count": 10,
   "metadata": {},
   "outputs": [
    {
     "data": {
      "text/plain": [
       "(6335, 300)"
      ]
     },
     "execution_count": 10,
     "metadata": {},
     "output_type": "execute_result"
    }
   ],
   "source": [
    "import numpy as np\n",
    "doc_vectors = []\n",
    "for i in range(len(df)):\n",
    "    doc_vectors.append(doc_model.docvecs[i])\n",
    "doc_vectors = np.asarray(doc_vectors)\n",
    "doc_vectors.shape"
   ]
  },
  {
   "cell_type": "code",
   "execution_count": 11,
   "metadata": {},
   "outputs": [
    {
     "name": "stderr",
     "output_type": "stream",
     "text": [
      "/Users/lifesaver/miniconda3/lib/python3.6/site-packages/ipykernel_launcher.py:5: DeprecationWarning: Call to deprecated `__getitem__` (Method will be removed in 4.0.0, use self.wv.__getitem__() instead).\n",
      "  \"\"\"\n"
     ]
    },
    {
     "data": {
      "text/plain": [
       "(6335, 300)"
      ]
     },
     "execution_count": 11,
     "metadata": {},
     "output_type": "execute_result"
    }
   ],
   "source": [
    "word_vectors = np.zeros((len(df), 300))\n",
    "for i in range(0, len(df)):\n",
    "    word_vectors[i] = 0\n",
    "    for word in cleaned[i]:\n",
    "        word_vectors[i] += word_model[word]\n",
    "    if len(cleaned[i]) != 0:\n",
    "        word_vectors[i] = word_vectors[i] / len(cleaned[i])\n",
    "word_vectors.shape"
   ]
  },
  {
   "cell_type": "markdown",
   "metadata": {},
   "source": [
    "## Set splitting\n",
    "\n",
    "As learned in first lecture, I split the set into testing set and training set, with 300 features selected, and the test size is set to one third. "
   ]
  },
  {
   "cell_type": "code",
   "execution_count": 24,
   "metadata": {},
   "outputs": [],
   "source": [
    "x0 = word_vectors\n",
    "x = doc_vectors\n",
    "y = np.array(df['label']) \n",
    "from sklearn.model_selection import train_test_split\n",
    "seed = 2\n",
    "test_size = 0.33\n",
    "x0_train, x0_test, y0_train, y0_test = train_test_split(x0, y, test_size=test_size, random_state=seed)\n",
    "x_train, x_test, y_train, y_test = train_test_split(x, y, test_size=test_size, random_state=seed)"
   ]
  },
  {
   "cell_type": "markdown",
   "metadata": {},
   "source": [
    "## Logistic regression"
   ]
  },
  {
   "cell_type": "code",
   "execution_count": 13,
   "metadata": {},
   "outputs": [
    {
     "name": "stdout",
     "output_type": "stream",
     "text": [
      "Word2Vec + LR: 0.8976566236250598\n",
      "Doc2Vec  + LR: 0.8574844571975132\n"
     ]
    }
   ],
   "source": [
    "import time\n",
    "from sklearn.linear_model import LogisticRegression\n",
    "LR0_model = LogisticRegression()\n",
    "LR_model = LogisticRegression()\n",
    "LR0_model = LR0_model.fit(x0_train, y0_train)\n",
    "LR_model = LR_model.fit(x_train, y_train)\n",
    "print(\"Word2Vec + LR:\",LR0_model.score(x0_test, y0_test))\n",
    "print(\"Doc2Vec  + LR:\",LR_model.score(x_test, y_test))"
   ]
  },
  {
   "cell_type": "code",
   "execution_count": 14,
   "metadata": {},
   "outputs": [
    {
     "name": "stdout",
     "output_type": "stream",
     "text": [
      "Word2Vec + LR\n",
      "             precision    recall  f1-score   support\n",
      "\n",
      "       FAKE       0.90      0.89      0.90      1050\n",
      "       REAL       0.89      0.90      0.90      1041\n",
      "\n",
      "avg / total       0.90      0.90      0.90      2091\n",
      "\n",
      "Doc2Vec + LR\n",
      "             precision    recall  f1-score   support\n",
      "\n",
      "       FAKE       0.83      0.90      0.86      1050\n",
      "       REAL       0.89      0.81      0.85      1041\n",
      "\n",
      "avg / total       0.86      0.86      0.86      2091\n",
      "\n"
     ]
    }
   ],
   "source": [
    "from sklearn.metrics import classification_report\n",
    "target_names = ['FAKE', 'REAL']\n",
    "y0_pred = LR0_model.predict(x0_test)\n",
    "y_pred = LR_model.predict(x_test)\n",
    "print(\"Word2Vec + LR\")\n",
    "print(classification_report(y0_test, y0_pred, target_names=target_names))\n",
    "print(\"Doc2Vec + LR\")\n",
    "print(classification_report(y_test, y_pred, target_names=target_names))"
   ]
  },
  {
   "cell_type": "code",
   "execution_count": 15,
   "metadata": {},
   "outputs": [],
   "source": [
    "from sklearn.metrics import * \n",
    "LR0_result = [accuracy_score(y0_test, y0_pred), precision_score(y0_test, y0_pred), recall_score(y0_test, y0_pred),\n",
    "             f1_score(y0_test, y0_pred)]\n",
    "LR_result = [accuracy_score(y_test, y_pred), precision_score(y_test, y_pred), recall_score(y_test, y_pred),\n",
    "             f1_score(y_test, y_pred)]"
   ]
  },
  {
   "cell_type": "markdown",
   "metadata": {},
   "source": [
    "## Random Forest"
   ]
  },
  {
   "cell_type": "code",
   "execution_count": 16,
   "metadata": {},
   "outputs": [
    {
     "name": "stdout",
     "output_type": "stream",
     "text": [
      "Word2Vec + RF: 0.8866571018651362\n",
      "Doc2Vec  + RF: 0.8579626972740315\n"
     ]
    }
   ],
   "source": [
    "from sklearn.ensemble import RandomForestClassifier\n",
    "RF0_model = RandomForestClassifier(n_estimators = 20, max_features=20, random_state=seed)\n",
    "RF_model = RandomForestClassifier(n_estimators = 20, max_features=20, random_state=seed)\n",
    "RF0_model = RF0_model.fit(x0_train, y0_train)\n",
    "RF_model = RF_model.fit(x_train, y_train)\n",
    "print(\"Word2Vec + RF:\",RF0_model.score(x0_test, y0_test))\n",
    "print(\"Doc2Vec  + RF:\",RF_model.score(x_test, y_test))"
   ]
  },
  {
   "cell_type": "code",
   "execution_count": 17,
   "metadata": {},
   "outputs": [
    {
     "name": "stdout",
     "output_type": "stream",
     "text": [
      "Word2Vec + RF\n",
      "             precision    recall  f1-score   support\n",
      "\n",
      "       FAKE       0.87      0.91      0.89      1050\n",
      "       REAL       0.91      0.86      0.88      1041\n",
      "\n",
      "avg / total       0.89      0.89      0.89      2091\n",
      "\n",
      "Doc2Vec + RF\n",
      "             precision    recall  f1-score   support\n",
      "\n",
      "       FAKE       0.84      0.89      0.86      1050\n",
      "       REAL       0.88      0.83      0.85      1041\n",
      "\n",
      "avg / total       0.86      0.86      0.86      2091\n",
      "\n"
     ]
    }
   ],
   "source": [
    "y0_pred = RF0_model.predict(x0_test)\n",
    "y_pred = RF_model.predict(x_test)\n",
    "print(\"Word2Vec + RF\")\n",
    "print(classification_report(y0_test, y0_pred, target_names=target_names))\n",
    "print(\"Doc2Vec + RF\")\n",
    "print(classification_report(y_test, y_pred, target_names=target_names))"
   ]
  },
  {
   "cell_type": "code",
   "execution_count": 18,
   "metadata": {},
   "outputs": [],
   "source": [
    "from sklearn.metrics import * \n",
    "RF0_result = [accuracy_score(y0_test, y0_pred), precision_score(y0_test, y0_pred), recall_score(y0_test, y0_pred),\n",
    "             f1_score(y0_test, y0_pred)]\n",
    "RF_result = [accuracy_score(y_test, y_pred), precision_score(y_test, y_pred), recall_score(y_test, y_pred),\n",
    "             f1_score(y_test, y_pred)]"
   ]
  },
  {
   "cell_type": "markdown",
   "metadata": {},
   "source": [
    "## XGboost"
   ]
  },
  {
   "cell_type": "code",
   "execution_count": 26,
   "metadata": {},
   "outputs": [
    {
     "name": "stdout",
     "output_type": "stream",
     "text": [
      "Word2Vec + XG: 0.8871353419416547\n",
      "Doc2Vec  + XG: 0.8813964610234337\n"
     ]
    },
    {
     "name": "stderr",
     "output_type": "stream",
     "text": [
      "/Users/lifesaver/miniconda3/lib/python3.6/site-packages/sklearn/preprocessing/label.py:151: DeprecationWarning: The truth value of an empty array is ambiguous. Returning False, but in future this will result in an error. Use `array.size > 0` to check that an array is not empty.\n",
      "  if diff:\n",
      "/Users/lifesaver/miniconda3/lib/python3.6/site-packages/sklearn/preprocessing/label.py:151: DeprecationWarning: The truth value of an empty array is ambiguous. Returning False, but in future this will result in an error. Use `array.size > 0` to check that an array is not empty.\n",
      "  if diff:\n"
     ]
    }
   ],
   "source": [
    "from xgboost import XGBClassifier\n",
    "XG0_model = XGBClassifier(max_depth=7, learning_rate=0.2, \n",
    "                        n_estimators=20, silent=True, \n",
    "                        objective='binary:logistic', nthread=-1, \n",
    "                        gamma=0, min_child_weight=1, max_delta_step=0, \n",
    "                        subsample=1, colsample_bytree=1, \n",
    "                        colsample_bylevel=1, reg_alpha=0, \n",
    "                        reg_lambda=1, scale_pos_weight=1, \n",
    "                        base_score=0.5, seed=0, missing=None)\n",
    "XG_model = XGBClassifier(max_depth=7, learning_rate=0.2, \n",
    "                        n_estimators=20, silent=True, \n",
    "                        objective='binary:logistic', nthread=-1, \n",
    "                        gamma=0, min_child_weight=1, max_delta_step=0, \n",
    "                        subsample=1, colsample_bytree=1, \n",
    "                        colsample_bylevel=1, reg_alpha=0, \n",
    "                        reg_lambda=1, scale_pos_weight=1, \n",
    "                        base_score=0.5, seed=0, missing=None)\n",
    "XG0_model = XG0_model.fit(x0_train, y0_train)\n",
    "XG_model = XG_model.fit(x_train, y_train)\n",
    "print(\"Word2Vec + XG:\",XG0_model.score(x0_test, y0_test))\n",
    "print(\"Doc2Vec  + XG:\",XG_model.score(x_test, y_test))"
   ]
  },
  {
   "cell_type": "code",
   "execution_count": 20,
   "metadata": {},
   "outputs": [
    {
     "name": "stdout",
     "output_type": "stream",
     "text": [
      "Word2Vec + XG\n",
      "             precision    recall  f1-score   support\n",
      "\n",
      "       FAKE       0.88      0.90      0.89      1050\n",
      "       REAL       0.89      0.88      0.89      1041\n",
      "\n",
      "avg / total       0.89      0.89      0.89      2091\n",
      "\n",
      "Doc2Vec + XG\n",
      "             precision    recall  f1-score   support\n",
      "\n",
      "       FAKE       0.87      0.89      0.88      1050\n",
      "       REAL       0.89      0.87      0.88      1041\n",
      "\n",
      "avg / total       0.88      0.88      0.88      2091\n",
      "\n"
     ]
    },
    {
     "name": "stderr",
     "output_type": "stream",
     "text": [
      "/Users/lifesaver/miniconda3/lib/python3.6/site-packages/sklearn/preprocessing/label.py:151: DeprecationWarning: The truth value of an empty array is ambiguous. Returning False, but in future this will result in an error. Use `array.size > 0` to check that an array is not empty.\n",
      "  if diff:\n",
      "/Users/lifesaver/miniconda3/lib/python3.6/site-packages/sklearn/preprocessing/label.py:151: DeprecationWarning: The truth value of an empty array is ambiguous. Returning False, but in future this will result in an error. Use `array.size > 0` to check that an array is not empty.\n",
      "  if diff:\n"
     ]
    }
   ],
   "source": [
    "y0_pred = XG0_model.predict(x0_test)\n",
    "y_pred = XG_model.predict(x_test)\n",
    "print(\"Word2Vec + XG\")\n",
    "print(classification_report(y0_test, y0_pred, target_names=target_names))\n",
    "print(\"Doc2Vec + XG\")\n",
    "print(classification_report(y_test, y_pred, target_names=target_names))"
   ]
  },
  {
   "cell_type": "code",
   "execution_count": 21,
   "metadata": {},
   "outputs": [],
   "source": [
    "from sklearn.metrics import * \n",
    "XG0_result = [accuracy_score(y0_test, y0_pred), precision_score(y0_test, y0_pred), recall_score(y0_test, y0_pred),\n",
    "             f1_score(y0_test, y0_pred)]\n",
    "XG_result = [accuracy_score(y_test, y_pred), precision_score(y_test, y_pred), recall_score(y_test, y_pred),\n",
    "             f1_score(y_test, y_pred)]"
   ]
  },
  {
   "cell_type": "markdown",
   "metadata": {},
   "source": [
    "## Results"
   ]
  },
  {
   "cell_type": "code",
   "execution_count": 29,
   "metadata": {},
   "outputs": [
    {
     "data": {
      "image/png": "[encoded data removed]",
      "text/plain": [
       "<matplotlib.figure.Figure at 0x1a581977b8>"
      ]
     },
     "metadata": {},
     "output_type": "display_data"
    }
   ],
   "source": [
    "Y1 = np.array(LR0_result[:4])\n",
    "Y2 = np.array(RF0_result[:4])\n",
    "Y3 = np.array(XG0_result[:4])\n",
    "from matplotlib import pyplot as plt\n",
    "plt.figure(figsize=(11,6))\n",
    "n = 4\n",
    "X = np.arange(n)+1\n",
    "plt.xticks([1.3,2.3,3.3,4.3],[r'$Accuracy$', r'$Precision$', r'$Recall$',r'$F1-score$'])\n",
    "plt.bar(X,Y1,width = 0.3,facecolor = 'lightskyblue',edgecolor = 'white',label='LR')\n",
    "plt.bar(X+0.3,Y2,width = 0.3,facecolor = 'yellowgreen',edgecolor = 'white',label='RF')\n",
    "plt.bar(X+0.6, Y3, width = 0.3,facecolor = 'coral',edgecolor = 'white',label='XG')\n",
    "for x,y in zip(X,Y1):\n",
    "    plt.text(x, y, '%.2f' % y, ha='center', va= 'bottom')\n",
    "for x,y in zip(X,Y2):\n",
    "    plt.text(x+0.3, y, '%.2f' % y, ha='center', va= 'bottom')\n",
    "for x,y in zip(X,Y3):\n",
    "    plt.text(x+0.6, y, '%.2f' % y, ha='center', va= 'bottom')\n",
    "plt.ylabel('Percentage')\n",
    "plt.ylim(0,+1)\n",
    "plt.legend()\n",
    "plt.title('Word2Vec Result')\n",
    "plt.show()"
   ]
  },
  {
   "cell_type": "code",
   "execution_count": 30,
   "metadata": {},
   "outputs": [
    {
     "data": {
      "image/png": "[encoded data removed]",
      "text/plain": [
       "<matplotlib.figure.Figure at 0x1a58377cf8>"
      ]
     },
     "metadata": {},
     "output_type": "display_data"
    }
   ],
   "source": [
    "Y1 = np.array(LR_result[:4])\n",
    "Y2 = np.array(RF_result[:4])\n",
    "Y3 = np.array(XG_result[:4])\n",
    "from matplotlib import pyplot as plt\n",
    "plt.figure(figsize=(11,6))\n",
    "n = 4\n",
    "X = np.arange(n)+1\n",
    "plt.xticks([1.3,2.3,3.3,4.3],[r'$Accuracy$', r'$Precision$', r'$Recall$',r'$F1-score$'])\n",
    "plt.bar(X,Y1,width = 0.3,facecolor = 'lightskyblue',edgecolor = 'white',label='LR')\n",
    "plt.bar(X+0.3,Y2,width = 0.3,facecolor = 'yellowgreen',edgecolor = 'white',label='RF')\n",
    "plt.bar(X+0.6, Y3, width = 0.3,facecolor = 'coral',edgecolor = 'white',label='XG')\n",
    "for x,y in zip(X,Y1):\n",
    "    plt.text(x, y, '%.2f' % y, ha='center', va= 'bottom')\n",
    "for x,y in zip(X,Y2):\n",
    "    plt.text(x+0.3, y, '%.2f' % y, ha='center', va= 'bottom')\n",
    "for x,y in zip(X,Y3):\n",
    "    plt.text(x+0.6, y, '%.2f' % y, ha='center', va= 'bottom')\n",
    "plt.ylabel('Percentage')\n",
    "plt.ylim(0,+1)\n",
    "plt.legend()\n",
    "plt.title('Doc2Vec Result')\n",
    "plt.show()"
   ]
  },
  {
   "cell_type": "markdown",
   "metadata": {},
   "source": [
    "## Analysis\n",
    "\n",
    "It seems that the Word2Vec has better score in every field comparing to Doc2Vec method, which make sence because when we choose vectors from word it maybe will cause us a lot of time but the result is more accuracy and more specific. The best model in Word2Vec is very hard to say sense the models perform very close to each other, but I will choose logistic regression rather than other two because of time spend. "
   ]
  }
 ],
 "metadata": {
  "kernelspec": {
   "display_name": "Python 3",
   "language": "python",
   "name": "python3"
  },
  "language_info": {
   "codemirror_mode": {
    "name": "ipython",
    "version": 3
   },
   "file_extension": ".py",
   "mimetype": "text/x-python",
   "name": "python",
   "nbconvert_exporter": "python",
   "pygments_lexer": "ipython3",
   "version": "3.6.3"
  }
 },
 "nbformat": 4,
 "nbformat_minor": 2
}
